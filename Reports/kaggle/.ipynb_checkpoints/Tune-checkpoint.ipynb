{
 "cells": [
  {
   "cell_type": "markdown",
   "id": "38b7c62e-b656-4a94-96a5-ba8486bbc970",
   "metadata": {
    "id": "38b7c62e-b656-4a94-96a5-ba8486bbc970"
   },
   "source": [
    "# Test Model"
   ]
  },
  {
   "cell_type": "markdown",
   "id": "dac18c79",
   "metadata": {},
   "source": [
    "Перед запуском этого файла локально убедись:\n",
    "- в правильном порядке директорий (Используются,server,worker,data,Model,StatisticClass)\\\n",
    "\n",
    "   |-Models\\\n",
    "   |---CNN_model\\\n",
    "   |-----models\\\n",
    "   |-------Data.py\\\n",
    "   |-------Model.py\\\n",
    "   |---FederatedLearning\\\n",
    "   |-------Server.py\\\n",
    "   |-------Worker.py\\\n",
    "   |---MatrixScheduler\\\n",
    "   |---Optimisers\\\n",
    "   |---Preconditioners\\\n",
    "   |-StatisticClass.py\\\n",
    "\n",
    "- установленны Tensorboard, torch, torchvision\n",
    "Tensorboard:\n",
    "\n",
    "```\n",
    "!pip install tensorboard\n",
    "```\n"
   ]
  },
  {
   "cell_type": "code",
   "execution_count": null,
   "id": "7ef72440-64bf-4bb1-b042-af159c03a1ba",
   "metadata": {},
   "outputs": [],
   "source": [
    "print(\"Tune ADAM\")"
   ]
  },
  {
   "cell_type": "code",
   "execution_count": null,
   "id": "f5006d9d-90a9-46ad-b076-e89afe330080",
   "metadata": {
    "execution": {
     "iopub.execute_input": "2023-03-21T07:03:36.279436Z",
     "iopub.status.busy": "2023-03-21T07:03:36.278363Z",
     "iopub.status.idle": "2023-03-21T07:03:37.213162Z",
     "shell.execute_reply": "2023-03-21T07:03:37.211954Z",
     "shell.execute_reply.started": "2023-03-21T07:03:36.279394Z"
    }
   },
   "outputs": [],
   "source": [
    "!pwd"
   ]
  },
  {
   "cell_type": "code",
   "execution_count": null,
   "id": "9f22e838-380d-486d-93d5-506712999d89",
   "metadata": {
    "execution": {
     "iopub.execute_input": "2023-03-21T07:03:37.216521Z",
     "iopub.status.busy": "2023-03-21T07:03:37.215884Z",
     "iopub.status.idle": "2023-03-21T07:03:37.222581Z",
     "shell.execute_reply": "2023-03-21T07:03:37.221452Z",
     "shell.execute_reply.started": "2023-03-21T07:03:37.216477Z"
    }
   },
   "outputs": [],
   "source": [
    "#/kaggle/input/federatedlearning/FederatedLearning\n",
    "#/kaggle/working"
   ]
  },
  {
   "cell_type": "code",
   "execution_count": null,
   "id": "aa3775eb-253f-4710-a240-329c1e603827",
   "metadata": {
    "execution": {
     "iopub.execute_input": "2023-03-21T07:03:37.264953Z",
     "iopub.status.busy": "2023-03-21T07:03:37.264644Z",
     "iopub.status.idle": "2023-03-21T07:03:37.270339Z",
     "shell.execute_reply": "2023-03-21T07:03:37.269305Z",
     "shell.execute_reply.started": "2023-03-21T07:03:37.264924Z"
    },
    "id": "912mhqjAGTEJ"
   },
   "outputs": [],
   "source": [
    "import os\n",
    "os.chdir(\"/kaggle/input/federatedlearning\")"
   ]
  },
  {
   "cell_type": "code",
   "execution_count": null,
   "id": "aabe0a42-dc48-4281-8bca-a41db22af71e",
   "metadata": {
    "execution": {
     "iopub.execute_input": "2023-03-21T07:03:40.00382Z",
     "iopub.status.busy": "2023-03-21T07:03:40.002879Z",
     "iopub.status.idle": "2023-03-21T07:03:45.259957Z",
     "shell.execute_reply": "2023-03-21T07:03:45.258296Z",
     "shell.execute_reply.started": "2023-03-21T07:03:40.003771Z"
    },
    "id": "53b8adc0-76c9-4ed5-b1a9-56b3ba5bcd53",
    "outputId": "d8acbbaa-7f17-4d87-dd7e-a6b017cd07a2"
   },
   "outputs": [],
   "source": [
    "import os\n",
    "\n",
    "os.chdir(\"./Models/CNN_model\")\n",
    "#!ls\n",
    "from Model import Model#,Optimizer_SGD\n",
    "from Data import Data\n",
    "\n",
    "os.chdir(\"../..\")\n",
    "!ls\n",
    "\n",
    "from Models.FederatedLearning.Server import server\n",
    "from Models.StatisticClass import Statistic,array_mean_object\n",
    "\n",
    "from Models.Optimizers.Adam import Adam\n",
    "from Models.Optimizers.OASIS import OASIS\n",
    "\n",
    "#os.chdir(\"../Reports\")\n",
    "import matplotlib.pyplot as plt\n",
    "import numpy as np\n",
    "import torch.optim as optim\n",
    "#!ls"
   ]
  },
  {
   "cell_type": "code",
   "execution_count": null,
   "id": "95079930-af99-466e-a676-13b33225e00a",
   "metadata": {
    "execution": {
     "iopub.execute_input": "2023-03-21T07:03:45.284542Z",
     "iopub.status.busy": "2023-03-21T07:03:45.281016Z",
     "iopub.status.idle": "2023-03-21T07:03:46.234565Z",
     "shell.execute_reply": "2023-03-21T07:03:46.233263Z",
     "shell.execute_reply.started": "2023-03-21T07:03:45.284476Z"
    },
    "id": "aQWRTNZpchuN",
    "outputId": "515fb921-c15d-4680-9c61-fe3616422fe5"
   },
   "outputs": [],
   "source": [
    "!pwd"
   ]
  },
  {
   "cell_type": "code",
   "execution_count": null,
   "id": "9963356d-e5c4-4f0c-9bea-535ab1a8c171",
   "metadata": {
    "execution": {
     "iopub.execute_input": "2023-03-21T07:03:49.151261Z",
     "iopub.status.busy": "2023-03-21T07:03:49.15083Z",
     "iopub.status.idle": "2023-03-21T07:03:49.158495Z",
     "shell.execute_reply": "2023-03-21T07:03:49.157544Z",
     "shell.execute_reply.started": "2023-03-21T07:03:49.151198Z"
    }
   },
   "outputs": [],
   "source": [
    "os.chdir(\"/kaggle/working\")"
   ]
  },
  {
   "cell_type": "code",
   "execution_count": null,
   "id": "1f1b4844-7d73-48ac-a5b7-13ac4c6db241",
   "metadata": {
    "execution": {
     "iopub.execute_input": "2023-03-21T07:03:49.777881Z",
     "iopub.status.busy": "2023-03-21T07:03:49.777162Z",
     "iopub.status.idle": "2023-03-21T07:03:50.719889Z",
     "shell.execute_reply": "2023-03-21T07:03:50.718637Z",
     "shell.execute_reply.started": "2023-03-21T07:03:49.777843Z"
    }
   },
   "outputs": [],
   "source": [
    "!pwd"
   ]
  },
  {
   "cell_type": "code",
   "execution_count": null,
   "id": "e18d0a5f-3683-4f8b-adec-044dc48f7ed9",
   "metadata": {},
   "outputs": [
    {
     "data": {
      "text/plain": [
       "['het',\n",
       " 'ident',\n",
       " 'random_indent',\n",
       " 'ident_same',\n",
       " 'noSplit',\n",
       " 'noSplit_test_split']"
      ]
     },
     "metadata": {},
     "output_type": "display_data"
    }
   ],
   "source": [
    "Data.SPLITS"
   ]
  },
  {
   "cell_type": "markdown",
   "id": "5b78f1dd-fa90-4181-8dd6-c100fa8cfabe",
   "metadata": {},
   "source": [
    "## Tune parameters"
   ]
  },
  {
   "cell_type": "code",
   "execution_count": null,
   "id": "ad12c58f-da01-4c1d-bc5c-7ff0c13ff75f",
   "metadata": {},
   "outputs": [],
   "source": [
    "#tunes = [{\"lr\":[7*1e-4,5*1e-4],\"beta\":[0.3,0.6,0.8]},  {\"lr\":[1e-4],\"beta\":[0.4,0.6]}]\n",
    "tunes1 = {\"lr\":[1e-2,1e-3,5e-3,7e-3],\"beta\":[0.999,0.95,0.9]}\n",
    "tunes2 = {\"lr\":[1e-2,1e-4,1e-3,5e-3,7e-3],\"beta\":[0.6,0.3,0.8]}"
   ]
  },
  {
   "cell_type": "code",
   "execution_count": null,
   "id": "17bc5e00-8064-4c56-8836-28229581d69d",
   "metadata": {},
   "outputs": [],
   "source": [
    "# def grid_search(rune_fn,tune):\n",
    "#     for l in tune[\"lr\"]:\n",
    "#         rune_fn(l)\n",
    "        \n",
    "def grid_search(rune_fn,tunes):\n",
    "    tune = tunes[0]\n",
    "    for l in tune[\"lr\"]:\n",
    "        for b in tune[\"beta\"]:\n",
    "        \n",
    "            rune_fn(l,b)"
   ]
  },
  {
   "cell_type": "markdown",
   "id": "609be195-6cd6-405e-a14e-51fde7b0e35b",
   "metadata": {
    "id": "609be195-6cd6-405e-a14e-51fde7b0e35b",
    "tags": []
   },
   "source": [
    "## Model"
   ]
  },
  {
   "cell_type": "code",
   "execution_count": 4,
   "id": "e0f38593-17fb-4b03-b24f-c4fe76d7e6a5",
   "metadata": {},
   "outputs": [
    {
     "name": "stdout",
     "output_type": "stream",
     "text": [
      "train Model\n"
     ]
    }
   ],
   "source": [
    "print(\"train Model Adam Tune\")"
   ]
  },
  {
   "cell_type": "code",
   "execution_count": 5,
   "id": "8b0370ee-c63f-48ac-bc6e-c079a0405e9e",
   "metadata": {},
   "outputs": [
    {
     "name": "stdout",
     "output_type": "stream",
     "text": [
      "Files already downloaded and verified\n",
      "Files already downloaded and verified\n"
     ]
    }
   ],
   "source": [
    "d = Data(split = \"noSplit\",n_workers=1,environment = \"\")"
   ]
  },
  {
   "cell_type": "code",
   "execution_count": null,
   "id": "6adb131a-8922-4dad-87fc-cac3e2b24da5",
   "metadata": {},
   "outputs": [],
   "source": [
    "m = Model(f\" \")\n",
    "print(m.net)"
   ]
  },
  {
   "cell_type": "code",
   "execution_count": null,
   "id": "95bb2c51-2bc4-4174-ade9-ab447ef91263",
   "metadata": {},
   "outputs": [],
   "source": [
    "print(\"Tune impl: \",tune1)"
   ]
  },
  {
   "cell_type": "code",
   "execution_count": 6,
   "id": "9d67c237-1105-4391-9ef0-07fe331d3c24",
   "metadata": {},
   "outputs": [],
   "source": [
    "def run_model(lr,beta):\n",
    "     m = Model(f\"Model_impl_SGD_lr:{lr}_beta:{beta}\")\n",
    "    \n",
    "    m.set_optimizer(Adam(params = m.net.parameters(),lr=lr,beta2 = beta))\n",
    "\n",
    "    trainloader = d.get_data_loaders()[0]['trainloader']\n",
    "    testloader = d.get_data_loaders()[0]['testloader']\n",
    "\n",
    "    m.run(epoch = 100,train_loader = trainloader,test_loader = testloader)\n",
    "\n",
    "grid_search(run_model,tunes1)"
   ]
  },
  {
   "cell_type": "code",
   "execution_count": null,
   "id": "ece8c531-274a-4a7f-8836-552cb932cd89",
   "metadata": {},
   "outputs": [],
   "source": [
    "print(\"Tune Adam: \",tune1)"
   ]
  },
  {
   "cell_type": "code",
   "execution_count": 6,
   "id": "02522911-6bd4-4efd-bcc2-b6d04c21bc4a",
   "metadata": {},
   "outputs": [],
   "source": [
    "def run_model(lr):\n",
    "    m = Model(f\"Model_impl_SGD_lr:{lr}_beta:{beta}\")\n",
    "    m.set_optimizer(optim.Adam(params=m.net.parameters(), lr=lr, betas=(0.9, beta2)))\n",
    "    #m.set_optimizer(optim.SGD(params = m.net.parameters(),lr=lr))\n",
    "\n",
    "    trainloader = d.get_data_loaders()[0]['trainloader']\n",
    "    testloader = d.get_data_loaders()[0]['testloader']\n",
    "\n",
    "    m.run(epoch = 100,train_loader = trainloader,test_loader = testloader)\n",
    "\n",
    "grid_search(run_model,tunes1)"
   ]
  },
  {
   "cell_type": "code",
   "execution_count": null,
   "id": "9504712a-c206-4957-b16b-51449f7b65cc",
   "metadata": {},
   "outputs": [],
   "source": [
    "print(\"Tune impl: \",tune2)"
   ]
  },
  {
   "cell_type": "code",
   "execution_count": null,
   "id": "6c5289aa-c1b2-4140-bae6-09d30ed93ea2",
   "metadata": {},
   "outputs": [],
   "source": [
    "def run_model(lr,beta):\n",
    "     m = Model(f\"Model_impl_SGD_lr:{lr}_beta:{beta}\")\n",
    "    \n",
    "    m.set_optimizer(Adam(params = m.net.parameters(),lr=lr,beta2 = beta))\n",
    "\n",
    "    trainloader = d.get_data_loaders()[0]['trainloader']\n",
    "    testloader = d.get_data_loaders()[0]['testloader']\n",
    "\n",
    "    m.run(epoch = 100,train_loader = trainloader,test_loader = testloader)\n",
    "\n",
    "grid_search(run_model,tunes1)"
   ]
  }
 ],
 "metadata": {
  "accelerator": "GPU",
  "colab": {
   "provenance": []
  },
  "gpuClass": "standard",
  "kernelspec": {
   "display_name": "Python 3 (ipykernel)",
   "language": "python",
   "name": "python3"
  },
  "language_info": {
   "codemirror_mode": {
    "name": "ipython",
    "version": 3
   },
   "file_extension": ".py",
   "mimetype": "text/x-python",
   "name": "python",
   "nbconvert_exporter": "python",
   "pygments_lexer": "ipython3",
   "version": "3.10.9"
  }
 },
 "nbformat": 4,
 "nbformat_minor": 5
}
