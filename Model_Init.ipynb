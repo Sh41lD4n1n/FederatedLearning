{
 "cells": [
  {
   "cell_type": "markdown",
   "id": "38b7c62e-b656-4a94-96a5-ba8486bbc970",
   "metadata": {
    "id": "38b7c62e-b656-4a94-96a5-ba8486bbc970"
   },
   "source": [
    "# Test Model"
   ]
  },
  {
   "cell_type": "code",
   "execution_count": 2,
   "id": "xyW_yuQ3GFqf",
   "metadata": {
    "colab": {
     "base_uri": "https://localhost:8080/"
    },
    "id": "xyW_yuQ3GFqf",
    "outputId": "fa67c4ea-063e-48d3-96ff-b3469cf1b0b7"
   },
   "outputs": [
    {
     "name": "stdout",
     "output_type": "stream",
     "text": [
      "fatal: destination path 'FederatedLearning' already exists and is not an empty directory.\n",
      "fatal: not a git repository (or any of the parent directories): .git\n"
     ]
    }
   ],
   "source": [
    "!git clone https://github.com/Sh41lD4n1n/FederatedLearning\n",
    "! cd FederatedLearning\n",
    "!git checkout CNN_model"
   ]
  },
  {
   "cell_type": "code",
   "execution_count": null,
   "id": "85affcdf",
   "metadata": {},
   "outputs": [],
   "source": [
    "!pip install tensorboard\n",
    "#!tensorboard --logdir=runs\n",
    "%load_ext tensorboard\n",
    "%tensorboard --logdir runs"
   ]
  },
  {
   "cell_type": "code",
   "execution_count": 1,
   "id": "912mhqjAGTEJ",
   "metadata": {
    "id": "912mhqjAGTEJ"
   },
   "outputs": [],
   "source": [
    "import os\n",
    "os.chdir(\"FederatedLearning\")\n",
    "!git checkout CNN_model"
   ]
  },
  {
   "cell_type": "code",
   "execution_count": 2,
   "id": "v1FO9hBbHmTq",
   "metadata": {
    "colab": {
     "base_uri": "https://localhost:8080/"
    },
    "id": "v1FO9hBbHmTq",
    "outputId": "b822a29c-d3a5-42d6-d5d9-491e8779464b"
   },
   "outputs": [
    {
     "name": "stdout",
     "output_type": "stream",
     "text": [
      "/content/FederatedLearning\n"
     ]
    }
   ],
   "source": [
    "!pwd"
   ]
  },
  {
   "cell_type": "code",
   "execution_count": null,
   "id": "53b8adc0-76c9-4ed5-b1a9-56b3ba5bcd53",
   "metadata": {
    "colab": {
     "base_uri": "https://localhost:8080/"
    },
    "id": "53b8adc0-76c9-4ed5-b1a9-56b3ba5bcd53",
    "outputId": "f918feb3-629e-4fa3-b661-ccc335e125ad"
   },
   "outputs": [],
   "source": [
    "import os\n",
    "\n",
    "os.chdir(\"./Models/CNN_model\")\n",
    "#!ls\n",
    "from Model import Model,Optimizer_SGD\n",
    "from Data import Data\n",
    "\n",
    "os.chdir(\"../..\")\n",
    "!ls\n",
    "\n",
    "from Models.MatrixScheduler.MatrixScheduler_identical import MatrixScheduler_identical\n",
    "from Models.MatrixScheduler.MatrixScheduler_Uniform import MatrixScheduler_Uniform\n",
    "from Models.FederatedLearning.Server import server\n",
    "from Models.StatisticClass import Statistic,array_mean_object\n",
    "\n",
    "#os.chdir(\"../Reports\")\n",
    "import matplotlib.pyplot as plt\n",
    "import numpy as np\n",
    "#!ls"
   ]
  },
  {
   "cell_type": "markdown",
   "id": "609be195-6cd6-405e-a14e-51fde7b0e35b",
   "metadata": {
    "id": "609be195-6cd6-405e-a14e-51fde7b0e35b",
    "tags": []
   },
   "source": [
    "### Model"
   ]
  },
  {
   "cell_type": "code",
   "execution_count": 2,
   "id": "265023d0-d034-4334-a66d-819cd3f7cbae",
   "metadata": {
    "colab": {
     "base_uri": "https://localhost:8080/",
     "height": 136,
     "referenced_widgets": [
      "c8c7635245794c9fa7f180d93b46d3f4",
      "3117b041e02b49b1b8d7fc4e5d2dc2b0",
      "ec52558b16ac4b96b80fae36e98f598a",
      "8ec34e830a7148549e60b4b7aa6fe4d1",
      "2d1f21c43db340eaa0269823530c58fa",
      "8aef2fd48a4a407d8e78684cf2aaa9f8",
      "b030e283069f4189b42e46be673687fc",
      "1b0a575b24204c4aa9f55799fd3cc639",
      "aaae9864e6874ed9ac85813132e0a377",
      "a720c3d069be4f11ae532ebd84ec0ca7",
      "ff1fa8a1f38048a4b43e7c84c8ac05cb"
     ]
    },
    "id": "265023d0-d034-4334-a66d-819cd3f7cbae",
    "outputId": "e2b7b8dd-f902-4c22-c875-d935a80c69dc"
   },
   "outputs": [
    {
     "name": "stdout",
     "output_type": "stream",
     "text": [
      "Files already downloaded and verified\n",
      "Files already downloaded and verified\n",
      "1\n",
      "1\n"
     ]
    }
   ],
   "source": [
    "d = Data(split = \"noSplit\",n_workers=1)"
   ]
  },
  {
   "cell_type": "code",
   "execution_count": 3,
   "id": "7a4110f1-0628-464b-a107-b82434b7cb7f",
   "metadata": {
    "colab": {
     "base_uri": "https://localhost:8080/",
     "height": 356
    },
    "id": "7a4110f1-0628-464b-a107-b82434b7cb7f",
    "outputId": "dcf51da4-65b5-4a69-d9c6-195fb8db2cc1"
   },
   "outputs": [
    {
     "data": {
      "image/png": "[encoded data removed]",
      "text/plain": [
       "<Figure size 1000x500 with 2 Axes>"
      ]
     },
     "metadata": {},
     "output_type": "display_data"
    }
   ],
   "source": [
    "train,test = d.get_data()\n",
    "\n",
    "plt.figure(figsize=(10, 5))\n",
    "val,counts = np.unique(train[0].targets,return_counts = True)\n",
    "val1,counts1 = np.unique(test[0].targets,return_counts = True)\n",
    "\n",
    "plt.subplot(121)\n",
    "plt.bar(val,counts)\n",
    "plt.subplot(122)\n",
    "plt.bar(val1,counts1)\n",
    "plt.suptitle(\"worker 0\")\n",
    "plt.show()"
   ]
  },
  {
   "cell_type": "code",
   "execution_count": 4,
   "id": "57136da5-d15d-434d-b5c4-5e2517346d78",
   "metadata": {
    "colab": {
     "base_uri": "https://localhost:8080/",
     "height": 1000
    },
    "id": "57136da5-d15d-434d-b5c4-5e2517346d78",
    "outputId": "0a010e8f-a570-4db2-bba5-c43efc097472"
   },
   "outputs": [
    {
     "ename": "TypeError",
     "evalue": "SummaryWriter.add_hparams() missing 1 required positional argument: 'metric_dict'",
     "output_type": "error",
     "traceback": [
      "\u001b[0;31m---------------------------------------------------------------------------\u001b[0m",
      "\u001b[0;31mTypeError\u001b[0m                                 Traceback (most recent call last)",
      "Cell \u001b[0;32mIn[4], line 1\u001b[0m\n\u001b[0;32m----> 1\u001b[0m m \u001b[38;5;241m=\u001b[39m \u001b[43mModel\u001b[49m\u001b[43m(\u001b[49m\u001b[38;5;124;43m\"\u001b[39;49m\u001b[38;5;124;43mModel\u001b[39;49m\u001b[38;5;124;43m\"\u001b[39;49m\u001b[43m)\u001b[49m\n\u001b[1;32m      2\u001b[0m trainloader \u001b[38;5;241m=\u001b[39m d\u001b[38;5;241m.\u001b[39mget_data_loaders()[\u001b[38;5;241m0\u001b[39m][\u001b[38;5;124m'\u001b[39m\u001b[38;5;124mtrainloader\u001b[39m\u001b[38;5;124m'\u001b[39m]\n\u001b[1;32m      3\u001b[0m testloader \u001b[38;5;241m=\u001b[39m d\u001b[38;5;241m.\u001b[39mget_data_loaders()[\u001b[38;5;241m0\u001b[39m][\u001b[38;5;124m'\u001b[39m\u001b[38;5;124mtestloader\u001b[39m\u001b[38;5;124m'\u001b[39m]\n",
      "File \u001b[0;32m~/Рабочий стол/Models_paper/Models/CNN_model/Model.py:73\u001b[0m, in \u001b[0;36mModel.__init__\u001b[0;34m(self, name)\u001b[0m\n\u001b[1;32m     70\u001b[0m \u001b[38;5;28mself\u001b[39m\u001b[38;5;241m.\u001b[39mcurrent_acc \u001b[38;5;241m=\u001b[39m \u001b[38;5;241m0\u001b[39m\n\u001b[1;32m     72\u001b[0m \u001b[38;5;28mself\u001b[39m\u001b[38;5;241m.\u001b[39mcurrent_epoch \u001b[38;5;241m=\u001b[39m \u001b[38;5;241m0\u001b[39m\n\u001b[0;32m---> 73\u001b[0m \u001b[38;5;28mself\u001b[39m\u001b[38;5;241m.\u001b[39mstat_collector \u001b[38;5;241m=\u001b[39m \u001b[43mStatistic\u001b[49m\u001b[43m(\u001b[49m\u001b[43mname\u001b[49m\u001b[43m)\u001b[49m\n",
      "File \u001b[0;32m~/Рабочий стол/Models_paper/Models/StatisticClass.py:49\u001b[0m, in \u001b[0;36mStatistic.__init__\u001b[0;34m(self, lable)\u001b[0m\n\u001b[1;32m     34\u001b[0m \u001b[38;5;66;03m#Grad_val\u001b[39;00m\n\u001b[1;32m     35\u001b[0m \u001b[38;5;66;03m#self.derivative = []\u001b[39;00m\n\u001b[1;32m     36\u001b[0m \u001b[38;5;66;03m#self.derivative_mean = []\u001b[39;00m\n\u001b[0;32m   (...)\u001b[0m\n\u001b[1;32m     46\u001b[0m \u001b[38;5;66;03m#self.y_pred = []\u001b[39;00m\n\u001b[1;32m     47\u001b[0m \u001b[38;5;66;03m#self.y_pred_proba = []\u001b[39;00m\n\u001b[1;32m     48\u001b[0m \u001b[38;5;28mself\u001b[39m\u001b[38;5;241m.\u001b[39mwriter \u001b[38;5;241m=\u001b[39m SummaryWriter(comment\u001b[38;5;241m=\u001b[39m\u001b[38;5;28mself\u001b[39m\u001b[38;5;241m.\u001b[39mlable)\n\u001b[0;32m---> 49\u001b[0m \u001b[38;5;28;43mself\u001b[39;49m\u001b[38;5;241;43m.\u001b[39;49m\u001b[43mwriter\u001b[49m\u001b[38;5;241;43m.\u001b[39;49m\u001b[43madd_hparams\u001b[49m\u001b[43m(\u001b[49m\n\u001b[1;32m     50\u001b[0m \u001b[43m    \u001b[49m\u001b[43m{\u001b[49m\u001b[38;5;124;43m\"\u001b[39;49m\u001b[38;5;124;43mname\u001b[39;49m\u001b[38;5;124;43m\"\u001b[39;49m\u001b[43m:\u001b[49m\u001b[43m \u001b[49m\u001b[38;5;28;43mself\u001b[39;49m\u001b[38;5;241;43m.\u001b[39;49m\u001b[43mlable\u001b[49m\u001b[43m}\u001b[49m\u001b[43m,\u001b[49m\n\u001b[1;32m     51\u001b[0m \u001b[43m\u001b[49m\u001b[43m)\u001b[49m\n",
      "\u001b[0;31mTypeError\u001b[0m: SummaryWriter.add_hparams() missing 1 required positional argument: 'metric_dict'"
     ]
    }
   ],
   "source": [
    "m = Model(\"Model\")\n",
    "trainloader = d.get_data_loaders()[0]['trainloader']\n",
    "testloader = d.get_data_loaders()[0]['testloader']\n",
    "\n",
    "m.run(epoch = 40,train_loader = trainloader,test_loader = testloader)"
   ]
  },
  {
   "cell_type": "code",
   "execution_count": 18,
   "id": "Glc50xClHVel",
   "metadata": {
    "colab": {
     "base_uri": "https://localhost:8080/",
     "height": 608
    },
    "id": "Glc50xClHVel",
    "outputId": "07db0c7e-07cb-45ab-e1d9-57aac3d5e33c"
   },
   "outputs": [
    {
     "name": "stdout",
     "output_type": "stream",
     "text": [
      "56.929923847317696\n",
      "0.8613\n"
     ]
    },
    {
     "data": {
      "image/png": "[encoded data removed]",
      "text/plain": [
       "<Figure size 432x288 with 1 Axes>"
      ]
     },
     "metadata": {
      "needs_background": "light"
     },
     "output_type": "display_data"
    },
    {
     "data": {
      "image/png": "[encoded data removed]",
      "text/plain": [
       "<Figure size 432x288 with 1 Axes>"
      ]
     },
     "metadata": {
      "needs_background": "light"
     },
     "output_type": "display_data"
    }
   ],
   "source": [
    "print(m.stat_collector.loss[-1])\n",
    "print(m.stat_collector.accuracy[-1])\n",
    "m.stat_collector.loss_plot()\n",
    "m.stat_collector.acc_plot()"
   ]
  },
  {
   "cell_type": "markdown",
   "id": "3844896a-8fce-4bac-8e7d-0f7ee444193b",
   "metadata": {
    "id": "3844896a-8fce-4bac-8e7d-0f7ee444193b"
   },
   "source": [
    "## Federated learning"
   ]
  },
  {
   "cell_type": "markdown",
   "id": "de49e963-c37b-4685-b071-ca2ed3d03a9c",
   "metadata": {
    "id": "de49e963-c37b-4685-b071-ca2ed3d03a9c"
   },
   "source": [
    "### Identical split, running with update on each iteration"
   ]
  },
  {
   "cell_type": "code",
   "execution_count": 4,
   "id": "90f6cbac-9464-4674-906e-15017387830d",
   "metadata": {
    "id": "90f6cbac-9464-4674-906e-15017387830d"
   },
   "outputs": [],
   "source": [
    "def model_creator():\n",
    "    name = \"FederatedModel\"\n",
    "\n",
    "    model = Model(name)\n",
    "    \n",
    "    opt = Optimizer_SGD(params=model.net.parameters())\n",
    "    preconditioner = None\n",
    "    scaller = None\n",
    "    #model.set_optimizer(opt)\n",
    "    #model.set_preconditioner(preconditioner)\n",
    "    #model.set_scaller(scaller)\n",
    "    return model"
   ]
  },
  {
   "cell_type": "code",
   "execution_count": 5,
   "id": "6a6e53b9-a26e-4c6f-8e2d-021f0493675a",
   "metadata": {
    "colab": {
     "base_uri": "https://localhost:8080/"
    },
    "id": "6a6e53b9-a26e-4c6f-8e2d-021f0493675a",
    "outputId": "622a28c4-4d9e-4597-9b47-900018c8cc3c"
   },
   "outputs": [
    {
     "name": "stdout",
     "output_type": "stream",
     "text": [
      "Files already downloaded and verified\n",
      "Files already downloaded and verified\n",
      "1\n",
      "1\n"
     ]
    }
   ],
   "source": [
    "d = Data(split = \"ident\",n_workers=3)"
   ]
  },
  {
   "cell_type": "code",
   "execution_count": 6,
   "id": "9f44bfa9-774b-4d11-9fd0-5e8a47eef20b",
   "metadata": {
    "colab": {
     "base_uri": "https://localhost:8080/",
     "height": 1000
    },
    "id": "9f44bfa9-774b-4d11-9fd0-5e8a47eef20b",
    "outputId": "0d8eadef-8e50-472b-b46f-c211442e18c1"
   },
   "outputs": [
    {
     "data": {
      "image/png": "[encoded data removed]",
      "text/plain": [
       "<Figure size 720x360 with 2 Axes>"
      ]
     },
     "metadata": {
      "needs_background": "light"
     },
     "output_type": "display_data"
    },
    {
     "data": {
      "image/png": "[encoded data removed]",
      "text/plain": [
       "<Figure size 720x360 with 2 Axes>"
      ]
     },
     "metadata": {
      "needs_background": "light"
     },
     "output_type": "display_data"
    },
    {
     "data": {
      "image/png": "[encoded data removed]",
      "text/plain": [
       "<Figure size 720x360 with 2 Axes>"
      ]
     },
     "metadata": {
      "needs_background": "light"
     },
     "output_type": "display_data"
    }
   ],
   "source": [
    "trains,tests = d.get_data()\n",
    "\n",
    "for i,(train,test) in enumerate(zip(trains,tests)):\n",
    "    plt.figure(figsize=(10, 5))\n",
    "\n",
    "    val,counts = np.unique(train.indices,return_counts = True)\n",
    "    val1,counts1 = np.unique(test.indices,return_counts = True)\n",
    "\n",
    "    plt.subplot(121)\n",
    "    plt.bar(val,counts)\n",
    "    plt.subplot(122)\n",
    "    plt.bar(val1,counts1)\n",
    "    plt.suptitle(f\"worker {i}\")\n",
    "    plt.show()"
   ]
  },
  {
   "cell_type": "code",
   "execution_count": 7,
   "id": "452d20c5-1487-4c20-b338-8a58d1a51902",
   "metadata": {
    "colab": {
     "base_uri": "https://localhost:8080/",
     "height": 408
    },
    "id": "452d20c5-1487-4c20-b338-8a58d1a51902",
    "outputId": "80994ec2-68ba-4782-e7dc-b3fb90ee5605"
   },
   "outputs": [
    {
     "name": "stdout",
     "output_type": "stream",
     "text": [
      " [=================================================>]  Step: 252ms | Tot: 15s447ms | Loss: 0.159 | Acc: 97.137% (16183/16660 131/131 \n",
      " [================================================>.]  Step: 118ms | Tot: 1s568ms | Loss: 3.817 | Acc: 20.000% (666/3330 34/34 \n",
      " [=================================================>]  Step: 38ms | Tot: 14s966ms | Loss: 0.154 | Acc: 97.701% (16277/16660 131/131 \n",
      " [================================================>.]  Step: 21ms | Tot: 1s498ms | Loss: 4.791 | Acc: 10.000% (333/3330 34/34 \n",
      " [=================================================>]  Step: 50ms | Tot: 15s352ms | Loss: 0.149 | Acc: 97.497% (16243/16660 131/131 \n",
      " [================================================>.]  Step: 33ms | Tot: 1s618ms | Loss: 4.907 | Acc: 20.000% (666/3330 34/34 \n"
     ]
    },
    {
     "ename": "AttributeError",
     "evalue": "ignored",
     "output_type": "error",
     "traceback": [
      "\u001b[0;31m---------------------------------------------------------------------------\u001b[0m",
      "\u001b[0;31mAttributeError\u001b[0m                            Traceback (most recent call last)",
      "\u001b[0;32m<ipython-input-7-d8f23c2cb240>\u001b[0m in \u001b[0;36m<module>\u001b[0;34m\u001b[0m\n\u001b[1;32m      1\u001b[0m \u001b[0ms\u001b[0m \u001b[0;34m=\u001b[0m \u001b[0mserver\u001b[0m\u001b[0;34m(\u001b[0m\u001b[0mnum_workers\u001b[0m\u001b[0;34m=\u001b[0m\u001b[0;36m3\u001b[0m\u001b[0;34m,\u001b[0m\u001b[0mdata\u001b[0m \u001b[0;34m=\u001b[0m \u001b[0md\u001b[0m\u001b[0;34m.\u001b[0m\u001b[0mget_data_loaders\u001b[0m\u001b[0;34m(\u001b[0m\u001b[0;34m)\u001b[0m\u001b[0;34m,\u001b[0m\u001b[0mmodel_creator\u001b[0m\u001b[0;34m=\u001b[0m\u001b[0mmodel_creator\u001b[0m\u001b[0;34m)\u001b[0m\u001b[0;34m\u001b[0m\u001b[0;34m\u001b[0m\u001b[0m\n\u001b[0;32m----> 2\u001b[0;31m \u001b[0ms\u001b[0m\u001b[0;34m.\u001b[0m\u001b[0mrun\u001b[0m\u001b[0;34m(\u001b[0m\u001b[0mn_iter\u001b[0m\u001b[0;34m=\u001b[0m\u001b[0;36m30\u001b[0m\u001b[0;34m,\u001b[0m\u001b[0mT\u001b[0m\u001b[0;34m=\u001b[0m\u001b[0;36m1\u001b[0m\u001b[0;34m)\u001b[0m\u001b[0;34m\u001b[0m\u001b[0;34m\u001b[0m\u001b[0m\n\u001b[0m",
      "\u001b[0;32m/content/FederatedLearning/Models/FederatedLearning/Server.py\u001b[0m in \u001b[0;36mrun\u001b[0;34m(self, n_iter, T)\u001b[0m\n\u001b[1;32m     56\u001b[0m             \u001b[0;32mif\u001b[0m \u001b[0mn_iter\u001b[0m\u001b[0;34m>=\u001b[0m\u001b[0;36m0\u001b[0m\u001b[0;34m:\u001b[0m\u001b[0;34m\u001b[0m\u001b[0;34m\u001b[0m\u001b[0m\n\u001b[1;32m     57\u001b[0m                 \u001b[0minit_grad\u001b[0m \u001b[0;34m=\u001b[0m \u001b[0mself\u001b[0m\u001b[0;34m.\u001b[0m\u001b[0mperform_global_step\u001b[0m\u001b[0;34m(\u001b[0m\u001b[0mgrad_list\u001b[0m\u001b[0;34m)\u001b[0m\u001b[0;34m\u001b[0m\u001b[0;34m\u001b[0m\u001b[0m\n\u001b[0;32m---> 58\u001b[0;31m                 \u001b[0mself\u001b[0m\u001b[0;34m.\u001b[0m\u001b[0mmodel\u001b[0m\u001b[0;34m.\u001b[0m\u001b[0mset_parameters\u001b[0m\u001b[0;34m(\u001b[0m\u001b[0minit_grad\u001b[0m\u001b[0;34m)\u001b[0m\u001b[0;34m\u001b[0m\u001b[0;34m\u001b[0m\u001b[0m\n\u001b[0m\u001b[1;32m     59\u001b[0m \u001b[0;34m\u001b[0m\u001b[0m\n\u001b[1;32m     60\u001b[0m \u001b[0;34m\u001b[0m\u001b[0m\n",
      "\u001b[0;31mAttributeError\u001b[0m: 'server' object has no attribute 'model'"
     ]
    }
   ],
   "source": [
    "s = server(num_workers=3,data = d.get_data_loaders(),model_creator=model_creator)\n",
    "s.run(n_iter=30,T=1)"
   ]
  },
  {
   "cell_type": "code",
   "execution_count": null,
   "id": "e12e36bc-e56e-475c-9c90-78ecd5da849d",
   "metadata": {
    "id": "e12e36bc-e56e-475c-9c90-78ecd5da849d"
   },
   "outputs": [],
   "source": [
    "print(s.workers[0].model.stat_collector.loss[-1])\n",
    "print(s.workers[0].model.stat_collector.accuracy[-1])\n",
    "s.workers[0].model.stat_collector.loss_plot()\n",
    "s.workers[0].model.stat_collector.acc_plot()"
   ]
  },
  {
   "cell_type": "markdown",
   "id": "36844609-c186-48a6-9a1a-0c7148ca9d3b",
   "metadata": {
    "id": "36844609-c186-48a6-9a1a-0c7148ca9d3b"
   },
   "source": [
    "### Identical split"
   ]
  },
  {
   "cell_type": "code",
   "execution_count": null,
   "id": "28e14bd4-d1dc-4ef6-aff2-a09d1bc93baf",
   "metadata": {
    "id": "28e14bd4-d1dc-4ef6-aff2-a09d1bc93baf"
   },
   "outputs": [],
   "source": [
    "def model_creator():\n",
    "    name = \"FederatedModel_ident\"\n",
    "    #opt = Optimizer_SGD()\n",
    "    preconditioner = None\n",
    "    scaller = None\n",
    "\n",
    "    model = Model(name)\n",
    "    #model.set_optimizer(opt)\n",
    "    #model.set_preconditioner(preconditioner)\n",
    "    #model.set_scaller(scaller)\n",
    "    return model"
   ]
  },
  {
   "cell_type": "code",
   "execution_count": null,
   "id": "61b2504d-6aa4-476c-a567-e5f85e556227",
   "metadata": {
    "id": "61b2504d-6aa4-476c-a567-e5f85e556227"
   },
   "outputs": [],
   "source": [
    "d = Data(split = \"ident\",n_workers=3)"
   ]
  },
  {
   "cell_type": "code",
   "execution_count": null,
   "id": "b8e62863-3b62-4bc8-af90-980970431471",
   "metadata": {
    "id": "b8e62863-3b62-4bc8-af90-980970431471"
   },
   "outputs": [],
   "source": [
    "trains,tests = d.get_data()\n",
    "\n",
    "for i,(train,test) in enumerate(zip(trains,tests)):\n",
    "    plt.figure(figsize=(10, 5))\n",
    "\n",
    "    val,counts = np.unique(train.indices,return_counts = True)\n",
    "    val1,counts1 = np.unique(test.indices,return_counts = True)\n",
    "\n",
    "    plt.subplot(121)\n",
    "    plt.bar(val,counts)\n",
    "    plt.subplot(122)\n",
    "    plt.bar(val1,counts1)\n",
    "    plt.suptitle(f\"worker {i}\")\n",
    "    plt.show()"
   ]
  },
  {
   "cell_type": "code",
   "execution_count": null,
   "id": "884c6fc1-3319-40a3-8af0-c857cbf739ee",
   "metadata": {
    "id": "884c6fc1-3319-40a3-8af0-c857cbf739ee"
   },
   "outputs": [],
   "source": [
    "s = server(num_workers=3,data = d.get_data_loaders(),model_creator=model_creator)\n",
    "s.run(n_iter=30,T=5)"
   ]
  },
  {
   "cell_type": "code",
   "execution_count": null,
   "id": "1fe31781",
   "metadata": {},
   "outputs": [],
   "source": [
    "stat_collectors = [w.model.stat_collector for w in s.workers]\n",
    "stat_collector = array_mean_object(stat_collectors,\"ident\")"
   ]
  },
  {
   "cell_type": "code",
   "execution_count": null,
   "id": "IomL6vFSRzIt",
   "metadata": {
    "id": "IomL6vFSRzIt"
   },
   "outputs": [],
   "source": [
    "print(stat_collector.loss[-1])\n",
    "print(stat_collector.accuracy[-1])\n",
    "stat_collector.loss_plot()\n",
    "stat_collector.acc_plot()"
   ]
  },
  {
   "cell_type": "markdown",
   "id": "3e4dc387-680c-4068-a336-236c4c871277",
   "metadata": {
    "id": "3e4dc387-680c-4068-a336-236c4c871277"
   },
   "source": [
    "## Heterogenious"
   ]
  },
  {
   "cell_type": "code",
   "execution_count": null,
   "id": "8057d461-173b-466f-8bed-b9d86a733fd2",
   "metadata": {
    "id": "8057d461-173b-466f-8bed-b9d86a733fd2"
   },
   "outputs": [],
   "source": [
    "d = Data(split = \"het\",n_workers=3)"
   ]
  },
  {
   "cell_type": "code",
   "execution_count": null,
   "id": "69d61c09-5065-4874-a821-b2f6e5ef0d9b",
   "metadata": {
    "id": "69d61c09-5065-4874-a821-b2f6e5ef0d9b"
   },
   "outputs": [],
   "source": [
    "trains,tests = d.get_data()\n",
    "\n",
    "for i,(train,test) in enumerate(zip(trains,tests)):\n",
    "    plt.figure(figsize=(10, 5))\n",
    "\n",
    "    val,counts = np.unique(train.indices,return_counts = True)\n",
    "    val1,counts1 = np.unique(test.indices,return_counts = True)\n",
    "\n",
    "    plt.subplot(121)\n",
    "    plt.bar(val,counts)\n",
    "    plt.subplot(122)\n",
    "    plt.bar(val1,counts1)\n",
    "    plt.suptitle(f\"worker {i}\")\n",
    "    plt.show()"
   ]
  },
  {
   "cell_type": "code",
   "execution_count": null,
   "id": "31db6f03-212f-4bc4-bea6-92849ea3cc45",
   "metadata": {
    "id": "31db6f03-212f-4bc4-bea6-92849ea3cc45"
   },
   "outputs": [],
   "source": [
    "len(trains[0]),len(trains[1]),len(trains[2]),len(trains[0])+len(trains[1])+len(trains[2])"
   ]
  },
  {
   "cell_type": "code",
   "execution_count": null,
   "id": "eeabac50-e68b-4124-9300-67522a99b968",
   "metadata": {
    "id": "eeabac50-e68b-4124-9300-67522a99b968"
   },
   "outputs": [],
   "source": [
    "len(tests[0]),len(tests[1]),len(tests[2]),len(tests[0])+len(tests[1])+len(tests[2])"
   ]
  },
  {
   "cell_type": "code",
   "execution_count": null,
   "id": "7e85bf11-fbcb-44cc-b03b-7d780dffd7fd",
   "metadata": {
    "id": "7e85bf11-fbcb-44cc-b03b-7d780dffd7fd"
   },
   "outputs": [],
   "source": [
    "s = server(num_workers=3,data = d.get_data_loaders(),model_creator=model_creator)\n",
    "s.run(n_iter=30,T=5)"
   ]
  },
  {
   "cell_type": "markdown",
   "id": "e4a9d335",
   "metadata": {},
   "source": [
    "## Launch tensorboard"
   ]
  },
  {
   "cell_type": "code",
   "execution_count": null,
   "id": "9370ae7a",
   "metadata": {},
   "outputs": [],
   "source": [
    "%tensorboard --logdir logs"
   ]
  },
  {
   "cell_type": "markdown",
   "id": "563859ed-5037-482e-a93d-31df02094d50",
   "metadata": {
    "id": "563859ed-5037-482e-a93d-31df02094d50"
   },
   "source": [
    "### Scaller ident"
   ]
  },
  {
   "cell_type": "code",
   "execution_count": null,
   "id": "1d0bc4b5-6c30-468e-a1d1-992797b318af",
   "metadata": {
    "id": "1d0bc4b5-6c30-468e-a1d1-992797b318af"
   },
   "outputs": [],
   "source": [
    "def model_creator():\n",
    "    name = \"FederatedModel_ident\"\n",
    "    opt = Optimizer_SGD()\n",
    "    preconditioner = None\n",
    "    scaller = MatrixScheduler_Uniform(0.1,2,change_mode = MatrixScheduler_Uniform.change_on_each_global_update)\n",
    "\n",
    "    model = Model(name)\n",
    "    #model.set_optimizer(opt)\n",
    "    #model.set_preconditioner(preconditioner)\n",
    "    model.set_scaller(scaller)\n",
    "    return model"
   ]
  },
  {
   "cell_type": "code",
   "execution_count": null,
   "id": "1b971553-1908-48d8-819a-18ef5ec8d1c8",
   "metadata": {
    "id": "1b971553-1908-48d8-819a-18ef5ec8d1c8",
    "outputId": "cceaae99-497d-4881-aad8-a2bab794af74"
   },
   "outputs": [
    {
     "name": "stdout",
     "output_type": "stream",
     "text": [
      "Files already downloaded and verified\n",
      "Files already downloaded and verified\n",
      "1\n",
      "1\n"
     ]
    }
   ],
   "source": [
    "d = Data(split = \"ident\",n_workers=3)"
   ]
  },
  {
   "cell_type": "code",
   "execution_count": null,
   "id": "b7efc787-501c-4535-948e-d079a60965e6",
   "metadata": {
    "id": "b7efc787-501c-4535-948e-d079a60965e6",
    "outputId": "e3f34ac3-2a13-42f1-8917-8b4340ee4377"
   },
   "outputs": [
    {
     "data": {
      "image/png": "[encoded data removed]",
      "text/plain": [
       "<Figure size 1000x500 with 2 Axes>"
      ]
     },
     "metadata": {},
     "output_type": "display_data"
    },
    {
     "data": {
      "image/png": "[encoded data removed]",
      "text/plain": [
       "<Figure size 1000x500 with 2 Axes>"
      ]
     },
     "metadata": {},
     "output_type": "display_data"
    },
    {
     "data": {
      "image/png": "[encoded data removed]",
      "text/plain": [
       "<Figure size 1000x500 with 2 Axes>"
      ]
     },
     "metadata": {},
     "output_type": "display_data"
    }
   ],
   "source": [
    "trains,tests = d.get_data()\n",
    "\n",
    "for i,(train,test) in enumerate(zip(trains,tests)):\n",
    "    plt.figure(figsize=(10, 5))\n",
    "\n",
    "    val,counts = np.unique(train.indices,return_counts = True)\n",
    "    val1,counts1 = np.unique(test.indices,return_counts = True)\n",
    "\n",
    "    plt.subplot(121)\n",
    "    plt.bar(val,counts)\n",
    "    plt.subplot(122)\n",
    "    plt.bar(val1,counts1)\n",
    "    plt.suptitle(f\"worker {i}\")\n",
    "    plt.show()"
   ]
  },
  {
   "cell_type": "code",
   "execution_count": null,
   "id": "f77f49fc-289d-44ff-80ff-c5c209e71e87",
   "metadata": {
    "id": "f77f49fc-289d-44ff-80ff-c5c209e71e87"
   },
   "outputs": [],
   "source": [
    "s = server(num_workers=3,data = d.get_data_loaders(),model_creator=model_creator)\n",
    "s.run(n_iter=200,T=20)"
   ]
  }
 ],
 "metadata": {
  "accelerator": "GPU",
  "colab": {
   "provenance": []
  },
  "gpuClass": "standard",
  "kernelspec": {
   "display_name": "Python 3 (ipykernel)",
   "language": "python",
   "name": "python3"
  },
  "language_info": {
   "codemirror_mode": {
    "name": "ipython",
    "version": 3
   },
   "file_extension": ".py",
   "mimetype": "text/x-python",
   "name": "python",
   "nbconvert_exporter": "python",
   "pygments_lexer": "ipython3",
   "version": "3.10.9"
  },
  "widgets": {
   "application/vnd.jupyter.widget-state+json": {
    "1b0a575b24204c4aa9f55799fd3cc639": {
     "model_module": "@jupyter-widgets/base",
     "model_module_version": "1.2.0",
     "model_name": "LayoutModel",
     "state": {
      "_model_module": "@jupyter-widgets/base",
      "_model_module_version": "1.2.0",
      "_model_name": "LayoutModel",
      "_view_count": null,
      "_view_module": "@jupyter-widgets/base",
      "_view_module_version": "1.2.0",
      "_view_name": "LayoutView",
      "align_content": null,
      "align_items": null,
      "align_self": null,
      "border": null,
      "bottom": null,
      "display": null,
      "flex": null,
      "flex_flow": null,
      "grid_area": null,
      "grid_auto_columns": null,
      "grid_auto_flow": null,
      "grid_auto_rows": null,
      "grid_column": null,
      "grid_gap": null,
      "grid_row": null,
      "grid_template_areas": null,
      "grid_template_columns": null,
      "grid_template_rows": null,
      "height": null,
      "justify_content": null,
      "justify_items": null,
      "left": null,
      "margin": null,
      "max_height": null,
      "max_width": null,
      "min_height": null,
      "min_width": null,
      "object_fit": null,
      "object_position": null,
      "order": null,
      "overflow": null,
      "overflow_x": null,
      "overflow_y": null,
      "padding": null,
      "right": null,
      "top": null,
      "visibility": null,
      "width": null
     }
    },
    "2d1f21c43db340eaa0269823530c58fa": {
     "model_module": "@jupyter-widgets/base",
     "model_module_version": "1.2.0",
     "model_name": "LayoutModel",
     "state": {
      "_model_module": "@jupyter-widgets/base",
      "_model_module_version": "1.2.0",
      "_model_name": "LayoutModel",
      "_view_count": null,
      "_view_module": "@jupyter-widgets/base",
      "_view_module_version": "1.2.0",
      "_view_name": "LayoutView",
      "align_content": null,
      "align_items": null,
      "align_self": null,
      "border": null,
      "bottom": null,
      "display": null,
      "flex": null,
      "flex_flow": null,
      "grid_area": null,
      "grid_auto_columns": null,
      "grid_auto_flow": null,
      "grid_auto_rows": null,
      "grid_column": null,
      "grid_gap": null,
      "grid_row": null,
      "grid_template_areas": null,
      "grid_template_columns": null,
      "grid_template_rows": null,
      "height": null,
      "justify_content": null,
      "justify_items": null,
      "left": null,
      "margin": null,
      "max_height": null,
      "max_width": null,
      "min_height": null,
      "min_width": null,
      "object_fit": null,
      "object_position": null,
      "order": null,
      "overflow": null,
      "overflow_x": null,
      "overflow_y": null,
      "padding": null,
      "right": null,
      "top": null,
      "visibility": null,
      "width": null
     }
    },
    "3117b041e02b49b1b8d7fc4e5d2dc2b0": {
     "model_module": "@jupyter-widgets/controls",
     "model_module_version": "1.5.0",
     "model_name": "HTMLModel",
     "state": {
      "_dom_classes": [],
      "_model_module": "@jupyter-widgets/controls",
      "_model_module_version": "1.5.0",
      "_model_name": "HTMLModel",
      "_view_count": null,
      "_view_module": "@jupyter-widgets/controls",
      "_view_module_version": "1.5.0",
      "_view_name": "HTMLView",
      "description": "",
      "description_tooltip": null,
      "layout": "IPY_MODEL_8aef2fd48a4a407d8e78684cf2aaa9f8",
      "placeholder": "​",
      "style": "IPY_MODEL_b030e283069f4189b42e46be673687fc",
      "value": "100%"
     }
    },
    "8aef2fd48a4a407d8e78684cf2aaa9f8": {
     "model_module": "@jupyter-widgets/base",
     "model_module_version": "1.2.0",
     "model_name": "LayoutModel",
     "state": {
      "_model_module": "@jupyter-widgets/base",
      "_model_module_version": "1.2.0",
      "_model_name": "LayoutModel",
      "_view_count": null,
      "_view_module": "@jupyter-widgets/base",
      "_view_module_version": "1.2.0",
      "_view_name": "LayoutView",
      "align_content": null,
      "align_items": null,
      "align_self": null,
      "border": null,
      "bottom": null,
      "display": null,
      "flex": null,
      "flex_flow": null,
      "grid_area": null,
      "grid_auto_columns": null,
      "grid_auto_flow": null,
      "grid_auto_rows": null,
      "grid_column": null,
      "grid_gap": null,
      "grid_row": null,
      "grid_template_areas": null,
      "grid_template_columns": null,
      "grid_template_rows": null,
      "height": null,
      "justify_content": null,
      "justify_items": null,
      "left": null,
      "margin": null,
      "max_height": null,
      "max_width": null,
      "min_height": null,
      "min_width": null,
      "object_fit": null,
      "object_position": null,
      "order": null,
      "overflow": null,
      "overflow_x": null,
      "overflow_y": null,
      "padding": null,
      "right": null,
      "top": null,
      "visibility": null,
      "width": null
     }
    },
    "8ec34e830a7148549e60b4b7aa6fe4d1": {
     "model_module": "@jupyter-widgets/controls",
     "model_module_version": "1.5.0",
     "model_name": "HTMLModel",
     "state": {
      "_dom_classes": [],
      "_model_module": "@jupyter-widgets/controls",
      "_model_module_version": "1.5.0",
      "_model_name": "HTMLModel",
      "_view_count": null,
      "_view_module": "@jupyter-widgets/controls",
      "_view_module_version": "1.5.0",
      "_view_name": "HTMLView",
      "description": "",
      "description_tooltip": null,
      "layout": "IPY_MODEL_a720c3d069be4f11ae532ebd84ec0ca7",
      "placeholder": "​",
      "style": "IPY_MODEL_ff1fa8a1f38048a4b43e7c84c8ac05cb",
      "value": " 170498071/170498071 [00:07&lt;00:00, 22001188.54it/s]"
     }
    },
    "a720c3d069be4f11ae532ebd84ec0ca7": {
     "model_module": "@jupyter-widgets/base",
     "model_module_version": "1.2.0",
     "model_name": "LayoutModel",
     "state": {
      "_model_module": "@jupyter-widgets/base",
      "_model_module_version": "1.2.0",
      "_model_name": "LayoutModel",
      "_view_count": null,
      "_view_module": "@jupyter-widgets/base",
      "_view_module_version": "1.2.0",
      "_view_name": "LayoutView",
      "align_content": null,
      "align_items": null,
      "align_self": null,
      "border": null,
      "bottom": null,
      "display": null,
      "flex": null,
      "flex_flow": null,
      "grid_area": null,
      "grid_auto_columns": null,
      "grid_auto_flow": null,
      "grid_auto_rows": null,
      "grid_column": null,
      "grid_gap": null,
      "grid_row": null,
      "grid_template_areas": null,
      "grid_template_columns": null,
      "grid_template_rows": null,
      "height": null,
      "justify_content": null,
      "justify_items": null,
      "left": null,
      "margin": null,
      "max_height": null,
      "max_width": null,
      "min_height": null,
      "min_width": null,
      "object_fit": null,
      "object_position": null,
      "order": null,
      "overflow": null,
      "overflow_x": null,
      "overflow_y": null,
      "padding": null,
      "right": null,
      "top": null,
      "visibility": null,
      "width": null
     }
    },
    "aaae9864e6874ed9ac85813132e0a377": {
     "model_module": "@jupyter-widgets/controls",
     "model_module_version": "1.5.0",
     "model_name": "ProgressStyleModel",
     "state": {
      "_model_module": "@jupyter-widgets/controls",
      "_model_module_version": "1.5.0",
      "_model_name": "ProgressStyleModel",
      "_view_count": null,
      "_view_module": "@jupyter-widgets/base",
      "_view_module_version": "1.2.0",
      "_view_name": "StyleView",
      "bar_color": null,
      "description_width": ""
     }
    },
    "b030e283069f4189b42e46be673687fc": {
     "model_module": "@jupyter-widgets/controls",
     "model_module_version": "1.5.0",
     "model_name": "DescriptionStyleModel",
     "state": {
      "_model_module": "@jupyter-widgets/controls",
      "_model_module_version": "1.5.0",
      "_model_name": "DescriptionStyleModel",
      "_view_count": null,
      "_view_module": "@jupyter-widgets/base",
      "_view_module_version": "1.2.0",
      "_view_name": "StyleView",
      "description_width": ""
     }
    },
    "c8c7635245794c9fa7f180d93b46d3f4": {
     "model_module": "@jupyter-widgets/controls",
     "model_module_version": "1.5.0",
     "model_name": "HBoxModel",
     "state": {
      "_dom_classes": [],
      "_model_module": "@jupyter-widgets/controls",
      "_model_module_version": "1.5.0",
      "_model_name": "HBoxModel",
      "_view_count": null,
      "_view_module": "@jupyter-widgets/controls",
      "_view_module_version": "1.5.0",
      "_view_name": "HBoxView",
      "box_style": "",
      "children": [
       "IPY_MODEL_3117b041e02b49b1b8d7fc4e5d2dc2b0",
       "IPY_MODEL_ec52558b16ac4b96b80fae36e98f598a",
       "IPY_MODEL_8ec34e830a7148549e60b4b7aa6fe4d1"
      ],
      "layout": "IPY_MODEL_2d1f21c43db340eaa0269823530c58fa"
     }
    },
    "ec52558b16ac4b96b80fae36e98f598a": {
     "model_module": "@jupyter-widgets/controls",
     "model_module_version": "1.5.0",
     "model_name": "FloatProgressModel",
     "state": {
      "_dom_classes": [],
      "_model_module": "@jupyter-widgets/controls",
      "_model_module_version": "1.5.0",
      "_model_name": "FloatProgressModel",
      "_view_count": null,
      "_view_module": "@jupyter-widgets/controls",
      "_view_module_version": "1.5.0",
      "_view_name": "ProgressView",
      "bar_style": "success",
      "description": "",
      "description_tooltip": null,
      "layout": "IPY_MODEL_1b0a575b24204c4aa9f55799fd3cc639",
      "max": 170498071,
      "min": 0,
      "orientation": "horizontal",
      "style": "IPY_MODEL_aaae9864e6874ed9ac85813132e0a377",
      "value": 170498071
     }
    },
    "ff1fa8a1f38048a4b43e7c84c8ac05cb": {
     "model_module": "@jupyter-widgets/controls",
     "model_module_version": "1.5.0",
     "model_name": "DescriptionStyleModel",
     "state": {
      "_model_module": "@jupyter-widgets/controls",
      "_model_module_version": "1.5.0",
      "_model_name": "DescriptionStyleModel",
      "_view_count": null,
      "_view_module": "@jupyter-widgets/base",
      "_view_module_version": "1.2.0",
      "_view_name": "StyleView",
      "description_width": ""
     }
    }
   }
  }
 },
 "nbformat": 4,
 "nbformat_minor": 5
}
