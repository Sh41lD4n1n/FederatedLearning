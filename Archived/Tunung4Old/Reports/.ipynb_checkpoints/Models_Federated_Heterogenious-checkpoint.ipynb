{
 "cells": [
  {
   "cell_type": "code",
   "execution_count": 1,
   "metadata": {
    "executionInfo": {
     "elapsed": 30946,
     "status": "ok",
     "timestamp": 1666704844603,
     "user": {
      "displayName": "Danil Shalagin",
      "userId": "09384551603364728385"
     },
     "user_tz": -180
    },
    "id": "opDACAf5dLqL"
   },
   "outputs": [],
   "source": [
    "#from IPython.core.display import clear_output\n",
    "\n",
    "#!pip3 install pandas-profiling==2.11\n",
    "#clear_output()"
   ]
  },
  {
   "cell_type": "code",
   "execution_count": 2,
   "metadata": {
    "colab": {
     "base_uri": "https://localhost:8080/"
    },
    "executionInfo": {
     "elapsed": 25270,
     "status": "ok",
     "timestamp": 1666704869857,
     "user": {
      "displayName": "Danil Shalagin",
      "userId": "09384551603364728385"
     },
     "user_tz": -180
    },
    "id": "BDZNsKQYZ6Rp",
    "outputId": "0de52f9c-d91f-4d29-8048-dfd0d15117ed"
   },
   "outputs": [],
   "source": [
    "#from google.colab import drive\n",
    "#drive.mount('/content/drive')\n",
    "#! cp /content/drive/MyDrive/semester7/Thesis/Models/* ./ -r\n",
    "#! cp /content/drive/MyDrive/semester7/Thesis/Datasets/* ./ -r"
   ]
  },
  {
   "cell_type": "code",
   "execution_count": 3,
   "metadata": {},
   "outputs": [],
   "source": [
    "#!gdown 1YHqgEFHoXa5vpSfKteAhBUWsJJ2RHgS7 -O data.csv"
   ]
  },
  {
   "cell_type": "code",
   "execution_count": 4,
   "metadata": {},
   "outputs": [
    {
     "name": "stdout",
     "output_type": "stream",
     "text": [
      "D:\\Учеба\\7 semester\\Models_paper\\Model_stage5_after_session _stage4Tuning\n"
     ]
    }
   ],
   "source": [
    "cd .."
   ]
  },
  {
   "cell_type": "code",
   "execution_count": 5,
   "metadata": {
    "executionInfo": {
     "elapsed": 6101,
     "status": "ok",
     "timestamp": 1666704875939,
     "user": {
      "displayName": "Danil Shalagin",
      "userId": "09384551603364728385"
     },
     "user_tz": -180
    },
    "id": "8hsHFd98ZzBb"
   },
   "outputs": [],
   "source": [
    "import matplotlib.pyplot as plt\n",
    "import numpy as np\n",
    "import pandas as pd\n",
    "from sklearn.datasets import make_regression\n",
    "#from pandas_profiling import ProfileReport\n",
    "\n",
    "from sklearn.preprocessing import OneHotEncoder\n",
    "from sklearn.preprocessing import minmax_scale\n",
    "\n",
    "from Datasets.ProcessDataset import Dataset\n",
    "\n",
    "#import torch\n",
    "from sklearn.model_selection import train_test_split\n",
    "\n",
    "from Models.Optimisers.GD import StochasticGradientDescent\n",
    "from Models.Optimisers.Adam import Adam\n",
    "\n",
    "from Models.Preconditioners.Preconditioners import SGD_preconditioner,Adam_preconditioner,OASIS_preconditioner\n",
    "\n",
    "#from Models.LogisticRegression.LogisticRegression import Logistic_Regression\n",
    "#from Models.LogisticRegression.LogisticRegression_layer import Logistic_Regression_train\n",
    "from Models.LogisticRegression.LogisticRegression_numpy import Logistic_Regression_numpy\n",
    "from Models.LogisticRegression.LogisticRegression_sklearn import Logistic_Regression_origin\n",
    "\n",
    "from Models.FederatedLearning.Server import server\n",
    "from Models.FederatedLearning.Worker import worker\n",
    "\n",
    "from Models.MatrixScheduler.MatrixScheduler_identical import MatrixScheduler_identical\n",
    "from Models.MatrixScheduler.MatrixScheduler_Uniform import MatrixScheduler_Uniform,CommonMatrixScheduler_Uniform\n",
    "\n",
    "from Models.StatisticClass import Statistic\n",
    "#from Models.StatisticClass import comparsion_array_loss,comparsion_array_weights,comparsion_array_acc\n",
    "from Models.StatisticClass import array_mean_object, comparsion_array_acc_one_plot,comparsion_array_loss_one_plot\n",
    "\n",
    "#from Models.StatisticClass import loss_array_mean_plot,acc_array_mean_plot\n",
    "#from Models.StatisticClass import comparison_loss_array_mean_plot,comparison_acc_array_mean_plot\n",
    "\n",
    "from sklearn.linear_model import SGDClassifier\n",
    "from sklearn.linear_model import LinearRegression\n",
    "\n",
    "\n",
    "from sklearn.metrics import balanced_accuracy_score\n",
    "from sklearn.metrics import accuracy_score\n",
    "from sklearn.metrics import mean_squared_error\n",
    "from sklearn.metrics import confusion_matrix\n",
    "\n",
    "%matplotlib inline"
   ]
  },
  {
   "cell_type": "code",
   "execution_count": 6,
   "metadata": {},
   "outputs": [],
   "source": [
    "from tqdm import tqdm"
   ]
  },
  {
   "cell_type": "code",
   "execution_count": 7,
   "metadata": {},
   "outputs": [],
   "source": [
    "import random\n",
    "random.seed(42)"
   ]
  },
  {
   "cell_type": "code",
   "execution_count": 8,
   "metadata": {},
   "outputs": [
    {
     "data": {
      "text/plain": [
       "<Figure size 2000x2000 with 0 Axes>"
      ]
     },
     "execution_count": 8,
     "metadata": {},
     "output_type": "execute_result"
    },
    {
     "data": {
      "text/plain": [
       "<Figure size 2000x2000 with 0 Axes>"
      ]
     },
     "metadata": {},
     "output_type": "display_data"
    }
   ],
   "source": [
    "from matplotlib.pyplot import figure\n",
    "\n",
    "figure(figsize=(20, 20))"
   ]
  },
  {
   "cell_type": "markdown",
   "metadata": {
    "id": "7yOVXp43Z61Q",
    "tags": [],
    "toc-hr-collapsed": true
   },
   "source": [
    "# load Dataset"
   ]
  },
  {
   "cell_type": "code",
   "execution_count": 9,
   "metadata": {},
   "outputs": [],
   "source": [
    "data = Dataset(dataset_name = 'Titanic')\n",
    "X,y = data.X,data.y"
   ]
  },
  {
   "cell_type": "code",
   "execution_count": 10,
   "metadata": {},
   "outputs": [
    {
     "name": "stdout",
     "output_type": "stream",
     "text": [
      "D:\\Учеба\\7 semester\\Models_paper\\Model_stage5_after_session _stage4Tuning\\Reports\n"
     ]
    }
   ],
   "source": [
    "cd Reports"
   ]
  },
  {
   "cell_type": "markdown",
   "metadata": {
    "id": "pYSsdqjTvT6e",
    "tags": []
   },
   "source": [
    "# Classification Model"
   ]
  },
  {
   "cell_type": "code",
   "execution_count": 11,
   "metadata": {
    "executionInfo": {
     "elapsed": 37,
     "status": "ok",
     "timestamp": 1666704875956,
     "user": {
      "displayName": "Danil Shalagin",
      "userId": "09384551603364728385"
     },
     "user_tz": -180
    },
    "id": "6pzf6bKPsmIR"
   },
   "outputs": [],
   "source": [
    "#X = d_class\n",
    "#y = y_class\n",
    "X_train, X_test, y_train, y_test  = train_test_split(X,y,test_size=0.2,random_state=42,stratify=y)\n",
    "#X_train,y_train,X_test,y_test = torch.tensor(X_train),torch.tensor(y_train),torch.tensor(X_test),torch.tensor(y_test)"
   ]
  },
  {
   "cell_type": "markdown",
   "metadata": {
    "tags": []
   },
   "source": [
    "# Federated learning"
   ]
  },
  {
   "cell_type": "markdown",
   "metadata": {},
   "source": [
    "### >> Parameters"
   ]
  },
  {
   "cell_type": "code",
   "execution_count": 12,
   "metadata": {},
   "outputs": [],
   "source": [
    "LR_EPOCH = {'lr': 0.01, 'epoch': 1000}"
   ]
  },
  {
   "cell_type": "code",
   "execution_count": 13,
   "metadata": {},
   "outputs": [],
   "source": [
    "n_array = [7,20,70,200,500]\n",
    "gamma_array = [0.7,1.8,2,3]\n",
    "#n_array = [7,20]\n",
    "#gamma_array = [0.7,1.8]"
   ]
  },
  {
   "cell_type": "code",
   "execution_count": 14,
   "metadata": {},
   "outputs": [],
   "source": [
    "#M_NAMES = [\"Logistic_Regression_train\", \"Logistic_Regression\",\"Logistic_Regression_numpy\"]\n",
    "M_NAMES = \"Logistic_Regression_numpy\""
   ]
  },
  {
   "cell_type": "code",
   "execution_count": 15,
   "metadata": {},
   "outputs": [
    {
     "data": {
      "text/plain": [
       "('Logistic_Regression_numpy', {'lr': 0.01})"
      ]
     },
     "execution_count": 15,
     "metadata": {},
     "output_type": "execute_result"
    }
   ],
   "source": [
    "model_name = M_NAMES#[2]\n",
    "model_params = {\"lr\":LR_EPOCH['lr']}\n",
    "model_name, model_params"
   ]
  },
  {
   "cell_type": "markdown",
   "metadata": {
    "tags": []
   },
   "source": [
    "## Example 2 heterogenious"
   ]
  },
  {
   "cell_type": "code",
   "execution_count": 16,
   "metadata": {},
   "outputs": [],
   "source": [
    "def show_data_stat(stat_collector_array,n_array,gamma_array):\n",
    "    \n",
    "    comparsion_array_loss_one_plot(stat_collector_array,n_array,gamma_array)\n",
    "    comparsion_array_acc_one_plot(stat_collector_array,n_array,gamma_array)\n",
    "\n",
    "def compare_models(stat_collector_arrays,n_array,gamma_array,n_idx,g_idx):\n",
    "    print(f\"n: {n_array[n_idx]}, gamma: {gamma_array[g_idx]}\")\n",
    "    collectors = []\n",
    "    idx = n_idx+g_idx*len(n_array)\n",
    "    for s_c in stat_collector_arrays:\n",
    "        collectors.append(s_c[idx])\n",
    "    comparsion_array_loss_one_plot(collectors,n_array = [\"model1\",\"model2\",\"model3\"],gamma_array= [\"model1\"])\n",
    "    comparsion_array_acc_one_plot(collectors,n_array = [\"model1\",\"model2\",\"model3\"],gamma_array= [\"model1\"])\n",
    "    "
   ]
  },
  {
   "cell_type": "code",
   "execution_count": 17,
   "metadata": {},
   "outputs": [],
   "source": [
    "def tune(run_model,n_array,gamma_array,model_name):\n",
    "    \n",
    "    with tqdm(total=len(gamma_array)*len(n_array)) as pbar:\n",
    "        result = []\n",
    "        for g in gamma_array:\n",
    "            for n in n_array:\n",
    "                current_stat = run_model(gamma = g,n = n)\n",
    "                result.append(array_mean_object(current_stat,\n",
    "                                                label = model_name + f\"n:{n},gamma:{g}\"))\n",
    "                pbar.update(1)\n",
    "    return result"
   ]
  },
  {
   "cell_type": "markdown",
   "metadata": {
    "tags": []
   },
   "source": [
    "### Federated, preconditioner: SGD"
   ]
  },
  {
   "cell_type": "markdown",
   "metadata": {},
   "source": [
    "#### Scheduler: identity"
   ]
  },
  {
   "cell_type": "code",
   "execution_count": 18,
   "metadata": {},
   "outputs": [],
   "source": [
    "#SGD\n",
    "def sgd_ident_run(gamma,n):\n",
    "    model_params = {\"lr\":LR_EPOCH['lr']}\n",
    "\n",
    "    precond = [SGD_preconditioner(),SGD_preconditioner(),SGD_preconditioner()]\n",
    "\n",
    "    federated_is_stat_collectors = [Statistic(X_test,y_test,\"worker1_ident_sgd\"),\n",
    "                                    Statistic(X_test,y_test,\"worker2_ident_sgd\"),\n",
    "                                    Statistic(X_test,y_test,\"worker3_ident_sgd\")]\n",
    "\n",
    "    models = [Logistic_Regression_numpy(n_features = X_train.shape[1],optimizer = None,\n",
    "                                           lr = model_params['lr'], preconditioner = precond[0],\n",
    "                                           epoch = 1,stat_collector=federated_is_stat_collectors[0]),\n",
    "             Logistic_Regression_numpy(n_features = X_train.shape[1],optimizer = None,\n",
    "                                           lr = model_params['lr'], preconditioner = precond[1],\n",
    "                                           epoch = 1,stat_collector=federated_is_stat_collectors[1]),\n",
    "             Logistic_Regression_numpy(n_features = X_train.shape[1],optimizer = None,\n",
    "                                           lr = model_params['lr'], preconditioner = precond[2],\n",
    "                                           epoch = 1,stat_collector=federated_is_stat_collectors[2])]\n",
    "\n",
    "    scheduler = [MatrixScheduler_identical(),MatrixScheduler_identical(),MatrixScheduler_identical()]\n",
    "\n",
    "    s = server(M_workers=3,\n",
    "               X_train = X_train,y_train = y_train,\n",
    "               stat_collectors = federated_is_stat_collectors,\n",
    "               models = models,\n",
    "               data_splitter = \"het\",m_scheduler = scheduler)\n",
    "\n",
    "    s.run(n_iter=LR_EPOCH['epoch'],T=n)\n",
    "    \n",
    "    return federated_is_stat_collectors"
   ]
  },
  {
   "cell_type": "code",
   "execution_count": null,
   "metadata": {},
   "outputs": [
    {
     "name": "stderr",
     "output_type": "stream",
     "text": [
      " 30%|████████████████████████▉                                                          | 6/20 [01:52<04:22, 18.73s/it]"
     ]
    }
   ],
   "source": [
    "r1 = tune(run_model = sgd_ident_run,\n",
    "     n_array = n_array,\n",
    "     gamma_array = gamma_array,\n",
    "     model_name = \"no matrix, \")"
   ]
  },
  {
   "cell_type": "markdown",
   "metadata": {},
   "source": [
    "#### сравнение: same method, different: n"
   ]
  },
  {
   "cell_type": "code",
   "execution_count": null,
   "metadata": {},
   "outputs": [],
   "source": [
    "show_data_stat(stat_collector_array = r1,\n",
    "               n_array = n_array,\n",
    "               gamma_array = gamma_array)"
   ]
  },
  {
   "cell_type": "markdown",
   "metadata": {
    "tags": []
   },
   "source": [
    "### Federated, preconditioner: Adam"
   ]
  },
  {
   "cell_type": "code",
   "execution_count": null,
   "metadata": {
    "tags": []
   },
   "outputs": [],
   "source": [
    "#SGD\n",
    "def adam_uniform_run(gamma,n):\n",
    "    model_params = {\"lr\":LR_EPOCH['lr']}\n",
    "\n",
    "    precond = [Adam_preconditioner(beta2 = 0.4),\n",
    "               Adam_preconditioner(beta2 = 0.4),\n",
    "               Adam_preconditioner(beta2 = 0.4)]\n",
    "\n",
    "    federated_ua_stat_collectors = [Statistic(X_test,y_test,\"worker1_uniform_adam\"),\n",
    "                                    Statistic(X_test,y_test,\"worker2_uniform_adam\"),\n",
    "                                    Statistic(X_test,y_test,\"worker3_uniform_adam\")]\n",
    "\n",
    "    models = [Logistic_Regression_numpy(n_features = X_train.shape[1],optimizer = None,\n",
    "                                           lr = model_params['lr'], preconditioner = precond[0],\n",
    "                                           epoch = 1,stat_collector=federated_ua_stat_collectors[0]),\n",
    "              Logistic_Regression_numpy(n_features = X_train.shape[1],optimizer = None,\n",
    "                                           lr = model_params['lr'], preconditioner = precond[1],\n",
    "                                           epoch = 1,stat_collector=federated_ua_stat_collectors[1]),\n",
    "              Logistic_Regression_numpy(n_features = X_train.shape[1],optimizer = None,\n",
    "                                           lr = model_params['lr'], preconditioner = precond[2],\n",
    "                                           epoch = 1,stat_collector=federated_ua_stat_collectors[2])]\n",
    "\n",
    "    schedulers = [MatrixScheduler_Uniform(alpha=0.01,gamma=gamma,\n",
    "                                          change_mode=MatrixScheduler_Uniform.change_on_each_iteration),\n",
    "                  MatrixScheduler_Uniform(alpha=0.01,gamma=gamma,\n",
    "                                          change_mode=MatrixScheduler_Uniform.change_on_each_iteration),\n",
    "                  MatrixScheduler_Uniform(alpha=0.01,gamma=gamma,\n",
    "                                          change_mode=MatrixScheduler_Uniform.change_on_each_iteration)]\n",
    "\n",
    "    s = server(M_workers=3,\n",
    "               X_train = X_train,y_train = y_train,\n",
    "               stat_collectors = federated_ua_stat_collectors,\n",
    "               models = models,\n",
    "               data_splitter = \"het\",m_scheduler = schedulers)\n",
    "\n",
    "    s.run(n_iter=LR_EPOCH['epoch'],T=n)\n",
    "    \n",
    "    return federated_ua_stat_collectors"
   ]
  },
  {
   "cell_type": "code",
   "execution_count": null,
   "metadata": {},
   "outputs": [],
   "source": [
    "r2 = tune(run_model = adam_uniform_run,\n",
    "     n_array = n_array,\n",
    "     gamma_array = gamma_array,\n",
    "     model_name = \"adam, matrix, \")"
   ]
  },
  {
   "cell_type": "markdown",
   "metadata": {},
   "source": [
    "#### сравнение: same method, different: n, $\\gamma$"
   ]
  },
  {
   "cell_type": "code",
   "execution_count": null,
   "metadata": {},
   "outputs": [],
   "source": [
    "show_data_stat(stat_collector_array = r2,\n",
    "               n_array = n_array,\n",
    "               gamma_array = gamma_array)"
   ]
  },
  {
   "cell_type": "markdown",
   "metadata": {
    "tags": []
   },
   "source": [
    "### Federated, preconditioner: OASIS"
   ]
  },
  {
   "cell_type": "code",
   "execution_count": null,
   "metadata": {
    "tags": []
   },
   "outputs": [],
   "source": [
    "#OASIS\n",
    "def oasis_uniform_run(gamma,n):\n",
    "    model_params = {\"lr\":LR_EPOCH['lr']}\n",
    "\n",
    "    precond = [OASIS_preconditioner(beta2 = 0.2,alpha=1e-2),\n",
    "               OASIS_preconditioner(beta2 = 0.2,alpha=1e-2),\n",
    "               OASIS_preconditioner(beta2 = 0.2,alpha=1e-2)]\n",
    "\n",
    "    federated_uo_stat_collectors = [Statistic(X_test,y_test,\"worker1_uniform_oasis\"),\n",
    "                                    Statistic(X_test,y_test,\"worker2_uniform_oasis\"),\n",
    "                                    Statistic(X_test,y_test,\"worker3_uniform_oasis\")]\n",
    "\n",
    "    models = [Logistic_Regression_numpy(n_features = X_train.shape[1],optimizer = None,\n",
    "                                           lr = model_params['lr'], preconditioner = precond[0],\n",
    "                                           epoch = 1,stat_collector=federated_uo_stat_collectors[0]),\n",
    "              Logistic_Regression_numpy(n_features = X_train.shape[1],optimizer = None,\n",
    "                                           lr = model_params['lr'], preconditioner = precond[1],\n",
    "                                           epoch = 1,stat_collector=federated_uo_stat_collectors[1]),\n",
    "              Logistic_Regression_numpy(n_features = X_train.shape[1],optimizer = None,\n",
    "                                           lr = model_params['lr'], preconditioner = precond[2],\n",
    "                                           epoch = 1,stat_collector=federated_uo_stat_collectors[2])]\n",
    "\n",
    "    schedulers = [MatrixScheduler_Uniform(alpha=0.01,gamma=gamma,\n",
    "                                          change_mode=MatrixScheduler_Uniform.change_on_each_iteration),\n",
    "                  MatrixScheduler_Uniform(alpha=0.01,gamma=gamma,\n",
    "                                          change_mode=MatrixScheduler_Uniform.change_on_each_iteration),\n",
    "                  MatrixScheduler_Uniform(alpha=0.01,gamma=gamma,\n",
    "                                          change_mode=MatrixScheduler_Uniform.change_on_each_iteration)]\n",
    "\n",
    "    s = server(M_workers=3,\n",
    "               X_train = X_train,y_train = y_train,\n",
    "               stat_collectors = federated_uo_stat_collectors,\n",
    "               models = models,\n",
    "               data_splitter = \"het\",m_scheduler = schedulers)\n",
    "\n",
    "    s.run(n_iter=LR_EPOCH['epoch'],T=n)\n",
    "    \n",
    "    return federated_uo_stat_collectors"
   ]
  },
  {
   "cell_type": "code",
   "execution_count": null,
   "metadata": {},
   "outputs": [],
   "source": [
    "r3 = tune(run_model = oasis_uniform_run,\n",
    "     n_array = n_array,\n",
    "     gamma_array = gamma_array,\n",
    "     model_name = \"oasis, matrix, \")"
   ]
  },
  {
   "cell_type": "markdown",
   "metadata": {},
   "source": [
    "#### сравнение: same method, different: n, $\\gamma$"
   ]
  },
  {
   "cell_type": "code",
   "execution_count": null,
   "metadata": {},
   "outputs": [],
   "source": [
    "show_data_stat(stat_collector_array = r3,\n",
    "               n_array = n_array,\n",
    "               gamma_array = gamma_array)"
   ]
  },
  {
   "cell_type": "markdown",
   "metadata": {
    "tags": []
   },
   "source": [
    "### Сравнение 3 методов при одном n, $\\gamma$"
   ]
  },
  {
   "cell_type": "code",
   "execution_count": null,
   "metadata": {},
   "outputs": [],
   "source": [
    "compare_models([r1,r2,r3],n_array,gamma_array,1,0)"
   ]
  }
 ],
 "metadata": {
  "colab": {
   "authorship_tag": "ABX9TyMPBYGLC5BDqPvdr7Z000t3",
   "collapsed_sections": [
    "7yOVXp43Z61Q",
    "eux7na03oHmp",
    "Ps60yxSHn2Iy",
    "PBYmrZu4EOSj",
    "aUTbsdPwnE7X",
    "w1Ya9CutF2Wf",
    "Hh-3kPOt3qkM",
    "jdA0VTaxAs-g"
   ],
   "provenance": []
  },
  "kernelspec": {
   "display_name": "Python 3 (ipykernel)",
   "language": "python",
   "name": "python3"
  },
  "language_info": {
   "codemirror_mode": {
    "name": "ipython",
    "version": 3
   },
   "file_extension": ".py",
   "mimetype": "text/x-python",
   "name": "python",
   "nbconvert_exporter": "python",
   "pygments_lexer": "ipython3",
   "version": "3.9.13"
  }
 },
 "nbformat": 4,
 "nbformat_minor": 4
}
