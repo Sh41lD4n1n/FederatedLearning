{
 "cells": [
  {
   "cell_type": "markdown",
   "id": "38b7c62e-b656-4a94-96a5-ba8486bbc970",
   "metadata": {
    "id": "38b7c62e-b656-4a94-96a5-ba8486bbc970"
   },
   "source": [
    "# Test Model"
   ]
  },
  {
   "cell_type": "markdown",
   "id": "dac18c79",
   "metadata": {},
   "source": [
    "Перед запуском этого файла локально убедись:\n",
    "- в правильном порядке директорий (Используются,server,worker,data,Model,StatisticClass)\\\n",
    "\n",
    "   |-Models\\\n",
    "   |---CNN_model\\\n",
    "   |-----models\\\n",
    "   |-------Data.py\\\n",
    "   |-------Model.py\\\n",
    "   |---FederatedLearning\\\n",
    "   |-------Server.py\\\n",
    "   |-------Worker.py\\\n",
    "   |---MatrixScheduler\\\n",
    "   |---Optimisers\\\n",
    "   |---Preconditioners\\\n",
    "   |-StatisticClass.py\\\n",
    "\n",
    "- установленны Tensorboard, torch, torchvision\n",
    "Tensorboard:\n",
    "\n",
    "```\n",
    "!pip install tensorboard\n",
    "```\n"
   ]
  },
  {
   "cell_type": "code",
   "execution_count": 1,
   "id": "53b8adc0-76c9-4ed5-b1a9-56b3ba5bcd53",
   "metadata": {
    "colab": {
     "base_uri": "https://localhost:8080/"
    },
    "id": "53b8adc0-76c9-4ed5-b1a9-56b3ba5bcd53",
    "outputId": "d8acbbaa-7f17-4d87-dd7e-a6b017cd07a2"
   },
   "outputs": [
    {
     "name": "stdout",
     "output_type": "stream",
     "text": [
      "data\tPictures   Report_Local.ipynb  runs\t  Test.ipynb\n",
      "Models\tREADME.md  Reports\t       Runs_stat  ПередПрименением.txt\n"
     ]
    }
   ],
   "source": [
    "import os\n",
    "\n",
    "os.chdir(\"./Models/CNN_model\")\n",
    "#!ls\n",
    "from Model import Model\n",
    "from Data import Data\n",
    "\n",
    "os.chdir(\"../..\")\n",
    "!ls\n",
    "\n",
    "from Models.FederatedLearning.Server import server\n",
    "from Models.StatisticClass import Statistic,array_mean_object\n",
    "from Models.Optimizers.Adam import Adam\n",
    "from Models.Optimizers.OASIS import OASIS\n",
    "\n",
    "#os.chdir(\"../Reports\")\n",
    "import matplotlib.pyplot as plt\n",
    "import numpy as np\n",
    "import torch.optim as optim\n",
    "import seaborn as sns\n",
    "\n",
    "import torch\n",
    "#!ls"
   ]
  },
  {
   "cell_type": "markdown",
   "id": "2e97fdba-690c-4e87-9726-9d4b73dae309",
   "metadata": {
    "tags": []
   },
   "source": [
    "## Data  "
   ]
  },
  {
   "cell_type": "code",
   "execution_count": 2,
   "id": "bba1ed1b",
   "metadata": {},
   "outputs": [],
   "source": [
    "def draw_distribution(name,d):\n",
    "    print(name)\n",
    "    trains,tests = d.get_data()\n",
    "\n",
    "    for i,(train,test) in enumerate(zip(trains,tests)):\n",
    "        plt.figure(figsize=(10, 5))\n",
    "\n",
    "        val,counts = np.unique(train.targets,return_counts = True)\n",
    "        val1,counts1 = np.unique(test.targets,return_counts = True)\n",
    "\n",
    "        plt.subplot(121)\n",
    "        plt.bar(val,counts)\n",
    "        plt.subplot(122)\n",
    "        plt.bar(val1,counts1)\n",
    "        plt.suptitle(f\"worker {i}\")\n",
    "        plt.show()\n",
    "        print(len(train),len(test),\"% of test \",len(test)/(len(train)+len(test)))"
   ]
  },
  {
   "cell_type": "code",
   "execution_count": 3,
   "id": "0b271e72-1174-4f38-94d0-708a33c5bd29",
   "metadata": {},
   "outputs": [],
   "source": [
    "def heatmap_plot(indexes):\n",
    "    \n",
    "    indexes = indexes.copy()\n",
    "    dim = int(np.sqrt(indexes.shape[0]))+1\n",
    "\n",
    "    indexes.resize(dim,dim)\n",
    "    plt.imshow(indexes, cmap='hot', interpolation='nearest')\n",
    "    plt.show()\n",
    "    #sns.heatmap(indexes, vmin=0, vmax=50_000)\n",
    "\n",
    "def check_randomness(d):\n",
    "    train,test = d.get_data()\n",
    "    for i,(data_t,data_test) in enumerate(zip( train,test )):\n",
    "        print(f\"Part {i}\")\n",
    "        print(\"Train\")\n",
    "        idexes = np.array(data_t.indices)\n",
    "        heatmap_plot(idexes)\n",
    "        \n",
    "        print(\"Test\")\n",
    "        idexes = np.array(data_test.indices)\n",
    "        heatmap_plot(idexes)"
   ]
  },
  {
   "cell_type": "code",
   "execution_count": 4,
   "id": "a3241be6-4335-4b42-91cd-2c92d91a33be",
   "metadata": {},
   "outputs": [
    {
     "data": {
      "text/plain": [
       "['het',\n",
       " 'ident',\n",
       " 'random_indent',\n",
       " 'ident_same',\n",
       " 'noSplit',\n",
       " 'noSplit_test_split']"
      ]
     },
     "execution_count": 4,
     "metadata": {},
     "output_type": "execute_result"
    }
   ],
   "source": [
    "Data.SPLITS"
   ]
  },
  {
   "cell_type": "code",
   "execution_count": null,
   "id": "265023d0-d034-4334-a66d-819cd3f7cbae",
   "metadata": {
    "colab": {
     "base_uri": "https://localhost:8080/"
    },
    "id": "265023d0-d034-4334-a66d-819cd3f7cbae",
    "outputId": "5c4e511a-b3bd-432a-cc05-10631397c946"
   },
   "outputs": [
    {
     "name": "stdout",
     "output_type": "stream",
     "text": [
      "Files already downloaded and verified\n",
      "Files already downloaded and verified\n",
      "Files already downloaded and verified\n",
      "Files already downloaded and verified\n",
      "Files already downloaded and verified\n",
      "Files already downloaded and verified\n",
      "Files already downloaded and verified\n",
      "Files already downloaded and verified\n",
      "Files already downloaded and verified\n",
      "Files already downloaded and verified\n"
     ]
    }
   ],
   "source": [
    "n,d = Data.SPLITS[0], Data(split = Data.SPLITS[0],n_workers=3,environment = \"\")\n",
    "n1,d1 = Data.SPLITS[1], Data(split = Data.SPLITS[1],n_workers=3,environment = \"\")\n",
    "n2,d2 = Data.SPLITS[2], Data(split = Data.SPLITS[2],n_workers=3,environment = \"\")\n",
    "n3,d3 = Data.SPLITS[3], Data(split = Data.SPLITS[3],n_workers=3,environment = \"\")\n",
    "n4,d4 = \"noSplit\", Data(split = \"noSplit\",n_workers=1,environment = \"\")\n",
    "n5,d5 = Data.SPLITS[-1], Data(split = Data.SPLITS[-1],n_workers=3,environment = \"\")"
   ]
  },
  {
   "cell_type": "code",
   "execution_count": null,
   "id": "8c896b39-b3ca-440c-bc29-dcfa52001d69",
   "metadata": {},
   "outputs": [],
   "source": [
    "idx = np.arange(50_000)\n",
    "idx"
   ]
  },
  {
   "cell_type": "code",
   "execution_count": null,
   "id": "3f3733af-7b89-42ed-a197-e46ae9dd862e",
   "metadata": {},
   "outputs": [],
   "source": [
    "heatmap_plot(idx)"
   ]
  },
  {
   "cell_type": "code",
   "execution_count": null,
   "id": "705bd23a-d230-4864-95b2-d01b7d3eff15",
   "metadata": {
    "tags": []
   },
   "outputs": [],
   "source": [
    "check_randomness(d)"
   ]
  },
  {
   "cell_type": "code",
   "execution_count": null,
   "id": "8e61b052",
   "metadata": {},
   "outputs": [],
   "source": [
    "draw_distribution(name=n,d=d)"
   ]
  },
  {
   "cell_type": "code",
   "execution_count": null,
   "id": "3da2b39c-27dd-4ed8-818b-c3de21962d57",
   "metadata": {},
   "outputs": [],
   "source": [
    "check_randomness(d1)"
   ]
  },
  {
   "cell_type": "code",
   "execution_count": null,
   "id": "840f7c5a",
   "metadata": {},
   "outputs": [],
   "source": [
    "draw_distribution(name=n1,d=d1)"
   ]
  },
  {
   "cell_type": "code",
   "execution_count": null,
   "id": "f58cf7d8-8243-487b-8885-3a6a82e2c82a",
   "metadata": {},
   "outputs": [],
   "source": [
    "check_randomness(d2)"
   ]
  },
  {
   "cell_type": "code",
   "execution_count": null,
   "id": "f6d5be57",
   "metadata": {},
   "outputs": [],
   "source": [
    "draw_distribution(name=n2,d=d2)"
   ]
  },
  {
   "cell_type": "code",
   "execution_count": null,
   "id": "40eb3716-a957-49f9-9602-f1db931948b2",
   "metadata": {},
   "outputs": [],
   "source": [
    "check_randomness(d3)"
   ]
  },
  {
   "cell_type": "code",
   "execution_count": null,
   "id": "7d1dbf1e",
   "metadata": {},
   "outputs": [],
   "source": [
    "draw_distribution(name=n3,d=d3)"
   ]
  },
  {
   "cell_type": "code",
   "execution_count": null,
   "id": "301f7ff3-f2e5-4e3d-ae5b-8a1748f42d0e",
   "metadata": {},
   "outputs": [],
   "source": [
    "d4"
   ]
  },
  {
   "cell_type": "code",
   "execution_count": null,
   "id": "aee40f49",
   "metadata": {},
   "outputs": [],
   "source": [
    "draw_distribution(name=n4,d=d4)"
   ]
  },
  {
   "cell_type": "code",
   "execution_count": null,
   "id": "49df9168-4960-4124-8832-7766ac5842fa",
   "metadata": {},
   "outputs": [],
   "source": [
    "check_randomness(d5)"
   ]
  },
  {
   "cell_type": "code",
   "execution_count": null,
   "id": "92c55f61",
   "metadata": {},
   "outputs": [],
   "source": [
    "draw_distribution(name=n5,d=d5)"
   ]
  },
  {
   "cell_type": "code",
   "execution_count": null,
   "id": "4a02f0ae-cd00-4ad6-897f-b77f68826ef5",
   "metadata": {},
   "outputs": [],
   "source": []
  },
  {
   "cell_type": "markdown",
   "id": "0c953eeb-5f6b-438f-8d8a-2a34c0a20f12",
   "metadata": {
    "tags": []
   },
   "source": [
    "## Models first try"
   ]
  },
  {
   "cell_type": "markdown",
   "id": "b768c440-3c7f-42d1-bf06-e8fc31e555ab",
   "metadata": {
    "jp-MarkdownHeadingCollapsed": true,
    "tags": []
   },
   "source": [
    "### Model run"
   ]
  },
  {
   "cell_type": "code",
   "execution_count": 2,
   "id": "3854e7c7-6e6b-46ad-9d77-4f11bfba9acb",
   "metadata": {},
   "outputs": [
    {
     "name": "stdout",
     "output_type": "stream",
     "text": [
      "Files already downloaded and verified\n",
      "Files already downloaded and verified\n"
     ]
    }
   ],
   "source": [
    "d = Data(split = \"noSplit\",n_workers=1,environment = \"\")"
   ]
  },
  {
   "cell_type": "code",
   "execution_count": 3,
   "id": "4af0e1ef-d93d-42c7-a801-0db8bd36a939",
   "metadata": {},
   "outputs": [],
   "source": [
    "m = Model(\"Test_Model\")\n",
    "m.set_optimizer(optim.SGD(m.net.parameters(), lr=0.01))\n",
    "\n",
    "trainloader = d.get_data_loaders()[0]['trainloader']\n",
    "testloader = d.get_data_loaders()[0]['testloader']\n",
    "\n",
    "m.run(epoch = 5,train_loader = trainloader,test_loader = testloader)"
   ]
  },
  {
   "cell_type": "code",
   "execution_count": 4,
   "id": "11707364-2a11-412c-baba-b4d5a7de25b9",
   "metadata": {},
   "outputs": [
    {
     "data": {
      "text/plain": [
       "dict_keys(['params', 'lr', 'momentum', 'dampening', 'weight_decay', 'nesterov', 'maximize', 'foreach', 'differentiable'])"
      ]
     },
     "execution_count": 4,
     "metadata": {},
     "output_type": "execute_result"
    }
   ],
   "source": [
    "m.optimizer.param_groups[0].keys()"
   ]
  },
  {
   "cell_type": "code",
   "execution_count": 5,
   "id": "88ecc0d5-375b-4ae8-93ad-d6615e7664f7",
   "metadata": {},
   "outputs": [
    {
     "data": {
      "text/plain": [
       "[array(-0.0553619, dtype=float32),\n",
       " array(-0.0553619, dtype=float32),\n",
       " array(-0.0553619, dtype=float32),\n",
       " array(-0.0553619, dtype=float32),\n",
       " array(-0.0553619, dtype=float32)]"
      ]
     },
     "execution_count": 5,
     "metadata": {},
     "output_type": "execute_result"
    }
   ],
   "source": [
    "m.stat_collector.weights"
   ]
  },
  {
   "cell_type": "markdown",
   "id": "e38ed8cb-e91c-401a-b0cb-dcda71e5b5ca",
   "metadata": {
    "jp-MarkdownHeadingCollapsed": true,
    "tags": []
   },
   "source": [
    "### Federated learning"
   ]
  },
  {
   "cell_type": "code",
   "execution_count": 2,
   "id": "5eb4a504-eba4-4d9c-927f-f7dd928154c1",
   "metadata": {},
   "outputs": [],
   "source": [
    "def model_creator(w_num):\n",
    "    name = f\"Test_FederatedModelSingleW_ident_{w_num}_\"\n",
    "    \n",
    "    model = Model(name)\n",
    "    model.set_optimizer(optim.SGD(model.net.parameters(), lr=0.01))\n",
    "    return model"
   ]
  },
  {
   "cell_type": "code",
   "execution_count": 3,
   "id": "62d45dcd-ef43-43e2-8380-709b7ff60e27",
   "metadata": {},
   "outputs": [],
   "source": [
    "def model_creator1(w_num):\n",
    "    name = f\"Federated_ident_{w_num}_\"\n",
    "    \n",
    "    model = Model(name)\n",
    "    model.set_optimizer(optim.SGD(model.net.parameters(), lr=0.01))\n",
    "    return model"
   ]
  },
  {
   "cell_type": "code",
   "execution_count": 4,
   "id": "5d4d4f3f-5227-4ed2-98bb-be0af6ba1b4f",
   "metadata": {},
   "outputs": [
    {
     "name": "stdout",
     "output_type": "stream",
     "text": [
      "Files already downloaded and verified\n",
      "Files already downloaded and verified\n"
     ]
    }
   ],
   "source": [
    "d1 = Data(split = \"ident\",n_workers=3,environment = \"\")"
   ]
  },
  {
   "cell_type": "code",
   "execution_count": null,
   "id": "d3508bde-aa81-4e91-83d5-46d2d9398313",
   "metadata": {},
   "outputs": [],
   "source": [
    "s = server(num_workers=1,data = d.get_data_loaders(),model_creator=model_creator)\n",
    "s.run(n_iter=5,T=1)"
   ]
  },
  {
   "cell_type": "code",
   "execution_count": 8,
   "id": "4df2aea5-f596-4be3-8d03-fd97dbb2d507",
   "metadata": {},
   "outputs": [
    {
     "name": "stderr",
     "output_type": "stream",
     "text": [
      " 20%|████████▊                                   | 4/20 [01:10<04:41, 17.57s/it]"
     ]
    },
    {
     "name": "stdout",
     "output_type": "stream",
     "text": [
      "size: 10\n"
     ]
    },
    {
     "name": "stderr",
     "output_type": "stream",
     "text": [
      " 40%|█████████████████▌                          | 8/20 [02:24<03:38, 18.17s/it]"
     ]
    },
    {
     "name": "stdout",
     "output_type": "stream",
     "text": [
      "size: 10\n"
     ]
    },
    {
     "name": "stderr",
     "output_type": "stream",
     "text": [
      " 60%|█████████████████████████▊                 | 12/20 [03:38<02:26, 18.31s/it]"
     ]
    },
    {
     "name": "stdout",
     "output_type": "stream",
     "text": [
      "size: 10\n"
     ]
    },
    {
     "name": "stderr",
     "output_type": "stream",
     "text": [
      " 80%|██████████████████████████████████▍        | 16/20 [04:56<01:14, 18.74s/it]"
     ]
    },
    {
     "name": "stdout",
     "output_type": "stream",
     "text": [
      "size: 10\n"
     ]
    },
    {
     "name": "stderr",
     "output_type": "stream",
     "text": [
      "100%|███████████████████████████████████████████| 20/20 [06:10<00:00, 18.54s/it]"
     ]
    },
    {
     "name": "stdout",
     "output_type": "stream",
     "text": [
      "size: 10\n"
     ]
    },
    {
     "name": "stderr",
     "output_type": "stream",
     "text": [
      "\n"
     ]
    }
   ],
   "source": [
    "s = server(num_workers=3,data = d1.get_data_loaders(),model_creator=model_creator1,same_init = False)\n",
    "s.run(n_iter=20,T=4)\n",
    "\n",
    "stat_collectors = [w.model.stat_collector for w in s.workers]\n",
    "stat_collector = array_mean_object(stat_collectors,\"Federated_ident\")"
   ]
  },
  {
   "cell_type": "code",
   "execution_count": 7,
   "id": "6ebc6482-9e7c-426c-bdfd-a2c56af8917d",
   "metadata": {},
   "outputs": [
    {
     "name": "stdout",
     "output_type": "stream",
     "text": [
      "[ 4  8 12 16]\n"
     ]
    },
    {
     "data": {
      "text/plain": [
       "(array([ 0,  1,  2,  3,  4,  5,  6,  7,  8,  9, 10, 11, 12, 13, 14, 15, 16,\n",
       "        17, 18, 19]),\n",
       " array([ 4,  8, 12, 16]))"
      ]
     },
     "execution_count": 7,
     "metadata": {},
     "output_type": "execute_result"
    }
   ],
   "source": [
    "iterations = np.arange(0,20,4)[1:]\n",
    "print(iterations)\n",
    "a = np.arange(20)\n",
    "a, np.array(a) [iterations]"
   ]
  },
  {
   "cell_type": "code",
   "execution_count": 9,
   "id": "28296eff-cc38-405f-8a0c-64a0f5fad813",
   "metadata": {},
   "outputs": [
    {
     "data": {
      "image/png": "[encoded data removed]",
      "text/plain": [
       "<Figure size 640x480 with 1 Axes>"
      ]
     },
     "metadata": {},
     "output_type": "display_data"
    },
    {
     "data": {
      "image/png": "[encoded data removed]",
      "text/plain": [
       "<Figure size 640x480 with 1 Axes>"
      ]
     },
     "metadata": {},
     "output_type": "display_data"
    }
   ],
   "source": [
    "iterations = np.arange(0,20,4)[1:]\n",
    "val = np.zeros(len(iterations))\n",
    "\n",
    "for sc in stat_collectors:\n",
    "    val+= np.array( sc.weights_mean )[iterations]\n",
    "    \n",
    "    plt.plot(np.arange(sc.iterations),sc.weights_mean)\n",
    "plt.plot(iterations,val/3,'.')\n",
    "plt.show()\n",
    "\n",
    "\n",
    "val = np.zeros(len(iterations))\n",
    "for sc in stat_collectors:\n",
    "    val+= np.array( sc.weights )[iterations]\n",
    "    \n",
    "    plt.plot(np.arange(sc.iterations),sc.weights)\n",
    "plt.plot(iterations,val/3,'.')\n",
    "plt.show()"
   ]
  },
  {
   "cell_type": "code",
   "execution_count": 4,
   "id": "92f68778-6516-43b4-ac36-772b182e73ad",
   "metadata": {},
   "outputs": [
    {
     "name": "stdout",
     "output_type": "stream",
     "text": [
      "Files already downloaded and verified\n",
      "Files already downloaded and verified\n"
     ]
    },
    {
     "name": "stderr",
     "output_type": "stream",
     "text": [
      " 20%|████████▊                                   | 4/20 [01:08<04:35, 17.23s/it]"
     ]
    },
    {
     "name": "stdout",
     "output_type": "stream",
     "text": [
      "size: 10\n"
     ]
    },
    {
     "name": "stderr",
     "output_type": "stream",
     "text": [
      " 40%|█████████████████▌                          | 8/20 [02:25<03:41, 18.42s/it]"
     ]
    },
    {
     "name": "stdout",
     "output_type": "stream",
     "text": [
      "size: 10\n"
     ]
    },
    {
     "name": "stderr",
     "output_type": "stream",
     "text": [
      " 40%|█████████████████▌                          | 8/20 [03:41<05:32, 27.68s/it]\n"
     ]
    },
    {
     "ename": "KeyboardInterrupt",
     "evalue": "",
     "output_type": "error",
     "traceback": [
      "\u001b[0;31m---------------------------------------------------------------------------\u001b[0m",
      "\u001b[0;31mKeyboardInterrupt\u001b[0m                         Traceback (most recent call last)",
      "Cell \u001b[0;32mIn[4], line 4\u001b[0m\n\u001b[1;32m      1\u001b[0m d1 \u001b[38;5;241m=\u001b[39m Data(split \u001b[38;5;241m=\u001b[39m \u001b[38;5;124m\"\u001b[39m\u001b[38;5;124mhet\u001b[39m\u001b[38;5;124m\"\u001b[39m,n_workers\u001b[38;5;241m=\u001b[39m\u001b[38;5;241m3\u001b[39m,environment \u001b[38;5;241m=\u001b[39m \u001b[38;5;124m\"\u001b[39m\u001b[38;5;124m\"\u001b[39m)\n\u001b[1;32m      3\u001b[0m s \u001b[38;5;241m=\u001b[39m server(num_workers\u001b[38;5;241m=\u001b[39m\u001b[38;5;241m3\u001b[39m,data \u001b[38;5;241m=\u001b[39m d1\u001b[38;5;241m.\u001b[39mget_data_loaders(),model_creator\u001b[38;5;241m=\u001b[39mmodel_creator1,same_init \u001b[38;5;241m=\u001b[39m \u001b[38;5;28;01mFalse\u001b[39;00m)\n\u001b[0;32m----> 4\u001b[0m \u001b[43ms\u001b[49m\u001b[38;5;241;43m.\u001b[39;49m\u001b[43mrun\u001b[49m\u001b[43m(\u001b[49m\u001b[43mn_iter\u001b[49m\u001b[38;5;241;43m=\u001b[39;49m\u001b[38;5;241;43m20\u001b[39;49m\u001b[43m,\u001b[49m\u001b[43mT\u001b[49m\u001b[38;5;241;43m=\u001b[39;49m\u001b[38;5;241;43m4\u001b[39;49m\u001b[43m)\u001b[49m\n\u001b[1;32m      6\u001b[0m stat_collectors \u001b[38;5;241m=\u001b[39m [w\u001b[38;5;241m.\u001b[39mmodel\u001b[38;5;241m.\u001b[39mstat_collector \u001b[38;5;28;01mfor\u001b[39;00m w \u001b[38;5;129;01min\u001b[39;00m s\u001b[38;5;241m.\u001b[39mworkers]\n\u001b[1;32m      7\u001b[0m stat_collector \u001b[38;5;241m=\u001b[39m array_mean_object(stat_collectors,\u001b[38;5;124m\"\u001b[39m\u001b[38;5;124mFederated_het\u001b[39m\u001b[38;5;124m\"\u001b[39m)\n",
      "File \u001b[0;32m~/Документы/Repos/FederatedLearning/Models/FederatedLearning/Server.py:139\u001b[0m, in \u001b[0;36mserver.run\u001b[0;34m(self, n_iter, T)\u001b[0m\n\u001b[1;32m    137\u001b[0m \u001b[38;5;28;01mfor\u001b[39;00m i,worker \u001b[38;5;129;01min\u001b[39;00m \u001b[38;5;28menumerate\u001b[39m(\u001b[38;5;28mself\u001b[39m\u001b[38;5;241m.\u001b[39mworkers):\n\u001b[1;32m    138\u001b[0m     \u001b[38;5;28;01mtry\u001b[39;00m:\n\u001b[0;32m--> 139\u001b[0m         \u001b[43mworker\u001b[49m\u001b[38;5;241;43m.\u001b[39;49m\u001b[43mperform_local_steps\u001b[49m\u001b[43m(\u001b[49m\u001b[43mn_local_steps\u001b[49m\u001b[43m)\u001b[49m\n\u001b[1;32m    140\u001b[0m         grad_list\u001b[38;5;241m.\u001b[39mappend(worker\u001b[38;5;241m.\u001b[39mmodel\u001b[38;5;241m.\u001b[39mget_parameters())\n\u001b[1;32m    141\u001b[0m     \u001b[38;5;28;01mexcept\u001b[39;00m \u001b[38;5;167;01mException\u001b[39;00m \u001b[38;5;28;01mas\u001b[39;00m e:\n",
      "File \u001b[0;32m~/Документы/Repos/FederatedLearning/Models/FederatedLearning/Worker.py:35\u001b[0m, in \u001b[0;36mWorker.perform_local_steps\u001b[0;34m(self, epoch)\u001b[0m\n\u001b[1;32m     27\u001b[0m \u001b[38;5;28;01mdef\u001b[39;00m \u001b[38;5;21mperform_local_steps\u001b[39m(\u001b[38;5;28mself\u001b[39m,epoch):\n\u001b[1;32m     28\u001b[0m     \u001b[38;5;124;03m\"\"\"\u001b[39;00m\n\u001b[1;32m     29\u001b[0m \u001b[38;5;124;03m    perform_local_steps\u001b[39;00m\n\u001b[1;32m     30\u001b[0m \u001b[38;5;124;03m    Параметры\u001b[39;00m\n\u001b[1;32m     31\u001b[0m \u001b[38;5;124;03m        epoch - колличество локальных шагов\u001b[39;00m\n\u001b[1;32m     32\u001b[0m \u001b[38;5;124;03m    - Запуск модели на данном worker\u001b[39;00m\n\u001b[1;32m     33\u001b[0m \u001b[38;5;124;03m    \"\"\"\u001b[39;00m\n\u001b[0;32m---> 35\u001b[0m     \u001b[38;5;28;43mself\u001b[39;49m\u001b[38;5;241;43m.\u001b[39;49m\u001b[43mmodel\u001b[49m\u001b[38;5;241;43m.\u001b[39;49m\u001b[43mrun\u001b[49m\u001b[43m(\u001b[49m\u001b[43mepoch\u001b[49m\u001b[43m,\u001b[49m\u001b[38;5;28;43mself\u001b[39;49m\u001b[38;5;241;43m.\u001b[39;49m\u001b[43mtrain_loader\u001b[49m\u001b[43m,\u001b[49m\u001b[38;5;28;43mself\u001b[39;49m\u001b[38;5;241;43m.\u001b[39;49m\u001b[43mtest_loader\u001b[49m\u001b[43m)\u001b[49m\n\u001b[1;32m     37\u001b[0m     \u001b[38;5;28;01mreturn\u001b[39;00m\n",
      "File \u001b[0;32m~/Документы/Repos/FederatedLearning/Models/CNN_model/Model.py:226\u001b[0m, in \u001b[0;36mModel.run\u001b[0;34m(self, epoch, train_loader, test_loader)\u001b[0m\n\u001b[1;32m    224\u001b[0m \u001b[38;5;28;01mdef\u001b[39;00m \u001b[38;5;21mrun\u001b[39m(\u001b[38;5;28mself\u001b[39m,epoch,train_loader,test_loader):\n\u001b[1;32m    225\u001b[0m \t\u001b[38;5;28;01mfor\u001b[39;00m current_epoch \u001b[38;5;129;01min\u001b[39;00m \u001b[38;5;28mrange\u001b[39m(\u001b[38;5;241m0\u001b[39m, epoch):\n\u001b[0;32m--> 226\u001b[0m \t    \u001b[38;5;28;43mself\u001b[39;49m\u001b[38;5;241;43m.\u001b[39;49m\u001b[43mtrain\u001b[49m\u001b[43m(\u001b[49m\u001b[43mtrain_loader\u001b[49m\u001b[43m)\u001b[49m\n\u001b[1;32m    227\u001b[0m \t    \u001b[38;5;28mself\u001b[39m\u001b[38;5;241m.\u001b[39mtest(test_loader)\n",
      "File \u001b[0;32m~/Документы/Repos/FederatedLearning/Models/CNN_model/Model.py:143\u001b[0m, in \u001b[0;36mModel.train\u001b[0;34m(self, trainloader)\u001b[0m\n\u001b[1;32m    141\u001b[0m \u001b[38;5;66;03m#шаг оптимизации\u001b[39;00m\n\u001b[1;32m    142\u001b[0m loss \u001b[38;5;241m=\u001b[39m \u001b[38;5;28mself\u001b[39m\u001b[38;5;241m.\u001b[39mcriterion(outputs, targets)\n\u001b[0;32m--> 143\u001b[0m \u001b[43mloss\u001b[49m\u001b[38;5;241;43m.\u001b[39;49m\u001b[43mbackward\u001b[49m\u001b[43m(\u001b[49m\u001b[43m)\u001b[49m\n\u001b[1;32m    144\u001b[0m \u001b[38;5;28mself\u001b[39m\u001b[38;5;241m.\u001b[39moptimizer\u001b[38;5;241m.\u001b[39mstep()\n\u001b[1;32m    146\u001b[0m train_loss \u001b[38;5;241m+\u001b[39m\u001b[38;5;241m=\u001b[39m loss\u001b[38;5;241m.\u001b[39mitem()\n",
      "File \u001b[0;32m~/Документы/Programs/miniconda3/lib/python3.10/site-packages/torch/_tensor.py:488\u001b[0m, in \u001b[0;36mTensor.backward\u001b[0;34m(self, gradient, retain_graph, create_graph, inputs)\u001b[0m\n\u001b[1;32m    478\u001b[0m \u001b[38;5;28;01mif\u001b[39;00m has_torch_function_unary(\u001b[38;5;28mself\u001b[39m):\n\u001b[1;32m    479\u001b[0m     \u001b[38;5;28;01mreturn\u001b[39;00m handle_torch_function(\n\u001b[1;32m    480\u001b[0m         Tensor\u001b[38;5;241m.\u001b[39mbackward,\n\u001b[1;32m    481\u001b[0m         (\u001b[38;5;28mself\u001b[39m,),\n\u001b[0;32m   (...)\u001b[0m\n\u001b[1;32m    486\u001b[0m         inputs\u001b[38;5;241m=\u001b[39minputs,\n\u001b[1;32m    487\u001b[0m     )\n\u001b[0;32m--> 488\u001b[0m \u001b[43mtorch\u001b[49m\u001b[38;5;241;43m.\u001b[39;49m\u001b[43mautograd\u001b[49m\u001b[38;5;241;43m.\u001b[39;49m\u001b[43mbackward\u001b[49m\u001b[43m(\u001b[49m\n\u001b[1;32m    489\u001b[0m \u001b[43m    \u001b[49m\u001b[38;5;28;43mself\u001b[39;49m\u001b[43m,\u001b[49m\u001b[43m \u001b[49m\u001b[43mgradient\u001b[49m\u001b[43m,\u001b[49m\u001b[43m \u001b[49m\u001b[43mretain_graph\u001b[49m\u001b[43m,\u001b[49m\u001b[43m \u001b[49m\u001b[43mcreate_graph\u001b[49m\u001b[43m,\u001b[49m\u001b[43m \u001b[49m\u001b[43minputs\u001b[49m\u001b[38;5;241;43m=\u001b[39;49m\u001b[43minputs\u001b[49m\n\u001b[1;32m    490\u001b[0m \u001b[43m\u001b[49m\u001b[43m)\u001b[49m\n",
      "File \u001b[0;32m~/Документы/Programs/miniconda3/lib/python3.10/site-packages/torch/autograd/__init__.py:197\u001b[0m, in \u001b[0;36mbackward\u001b[0;34m(tensors, grad_tensors, retain_graph, create_graph, grad_variables, inputs)\u001b[0m\n\u001b[1;32m    192\u001b[0m     retain_graph \u001b[38;5;241m=\u001b[39m create_graph\n\u001b[1;32m    194\u001b[0m \u001b[38;5;66;03m# The reason we repeat same the comment below is that\u001b[39;00m\n\u001b[1;32m    195\u001b[0m \u001b[38;5;66;03m# some Python versions print out the first line of a multi-line function\u001b[39;00m\n\u001b[1;32m    196\u001b[0m \u001b[38;5;66;03m# calls in the traceback and some print out the last line\u001b[39;00m\n\u001b[0;32m--> 197\u001b[0m \u001b[43mVariable\u001b[49m\u001b[38;5;241;43m.\u001b[39;49m\u001b[43m_execution_engine\u001b[49m\u001b[38;5;241;43m.\u001b[39;49m\u001b[43mrun_backward\u001b[49m\u001b[43m(\u001b[49m\u001b[43m  \u001b[49m\u001b[38;5;66;43;03m# Calls into the C++ engine to run the backward pass\u001b[39;49;00m\n\u001b[1;32m    198\u001b[0m \u001b[43m    \u001b[49m\u001b[43mtensors\u001b[49m\u001b[43m,\u001b[49m\u001b[43m \u001b[49m\u001b[43mgrad_tensors_\u001b[49m\u001b[43m,\u001b[49m\u001b[43m \u001b[49m\u001b[43mretain_graph\u001b[49m\u001b[43m,\u001b[49m\u001b[43m \u001b[49m\u001b[43mcreate_graph\u001b[49m\u001b[43m,\u001b[49m\u001b[43m \u001b[49m\u001b[43minputs\u001b[49m\u001b[43m,\u001b[49m\n\u001b[1;32m    199\u001b[0m \u001b[43m    \u001b[49m\u001b[43mallow_unreachable\u001b[49m\u001b[38;5;241;43m=\u001b[39;49m\u001b[38;5;28;43;01mTrue\u001b[39;49;00m\u001b[43m,\u001b[49m\u001b[43m \u001b[49m\u001b[43maccumulate_grad\u001b[49m\u001b[38;5;241;43m=\u001b[39;49m\u001b[38;5;28;43;01mTrue\u001b[39;49;00m\u001b[43m)\u001b[49m\n",
      "\u001b[0;31mKeyboardInterrupt\u001b[0m: "
     ]
    }
   ],
   "source": [
    "d1 = Data(split = \"het\",n_workers=3,environment = \"\")\n",
    "\n",
    "s = server(num_workers=3,data = d1.get_data_loaders(),model_creator=model_creator1,same_init = False)\n",
    "s.run(n_iter=20,T=4)\n",
    "\n",
    "stat_collectors = [w.model.stat_collector for w in s.workers]\n",
    "stat_collector = array_mean_object(stat_collectors,\"Federated_het\")"
   ]
  },
  {
   "cell_type": "markdown",
   "id": "066995b6-373b-4d40-9b43-3ffe0c4f1432",
   "metadata": {},
   "source": [
    "## Optimizers"
   ]
  },
  {
   "cell_type": "markdown",
   "id": "9e49cb03-9f3b-4b19-a647-0c7cddbd6e92",
   "metadata": {
    "tags": []
   },
   "source": [
    "### Adam"
   ]
  },
  {
   "cell_type": "code",
   "execution_count": 4,
   "id": "3c3c0aad-969c-4e3a-b067-9fe13120c20c",
   "metadata": {},
   "outputs": [],
   "source": [
    "p = torch.tensor([1])\n",
    "m = Model(\"Test_Model\")\n",
    "\n",
    "adam_opt = Adam(params = m.net.parameters(),beta2 = 0.4,lr=0.002)"
   ]
  },
  {
   "cell_type": "code",
   "execution_count": 5,
   "id": "ea8f5ca7-9030-4b97-898a-32027395933a",
   "metadata": {},
   "outputs": [
    {
     "ename": "TypeError",
     "evalue": "Adam.count_sum() got an unexpected keyword argument 'grad_list'",
     "output_type": "error",
     "traceback": [
      "\u001b[0;31m---------------------------------------------------------------------------\u001b[0m",
      "\u001b[0;31mTypeError\u001b[0m                                 Traceback (most recent call last)",
      "Cell \u001b[0;32mIn[5], line 4\u001b[0m\n\u001b[1;32m      2\u001b[0m adam_opt\u001b[38;5;241m.\u001b[39mcurrent_iter \u001b[38;5;241m=\u001b[39m \u001b[38;5;241m3\u001b[39m\n\u001b[1;32m      3\u001b[0m \u001b[38;5;28;01mtry\u001b[39;00m:\n\u001b[0;32m----> 4\u001b[0m     \u001b[43madam_opt\u001b[49m\u001b[38;5;241;43m.\u001b[39;49m\u001b[43mcount_sum\u001b[49m\u001b[43m(\u001b[49m\u001b[43mgrad_list\u001b[49m\u001b[43m \u001b[49m\u001b[38;5;241;43m=\u001b[39;49m\u001b[43m \u001b[49m\u001b[43m[\u001b[49m\u001b[43mgrad_val\u001b[49m\u001b[43m,\u001b[49m\u001b[43mgrad_val\u001b[49m\u001b[43m,\u001b[49m\u001b[43mgrad_val\u001b[49m\u001b[43m]\u001b[49m\u001b[43m)\u001b[49m\n\u001b[1;32m      5\u001b[0m     \u001b[38;5;28mprint\u001b[39m(\u001b[38;5;124m\"\u001b[39m\u001b[38;5;124mSucced\u001b[39m\u001b[38;5;124m\"\u001b[39m)\n\u001b[1;32m      6\u001b[0m \u001b[38;5;28;01mexcept\u001b[39;00m \u001b[38;5;167;01mAssertionError\u001b[39;00m \u001b[38;5;28;01mas\u001b[39;00m e:\n",
      "\u001b[0;31mTypeError\u001b[0m: Adam.count_sum() got an unexpected keyword argument 'grad_list'"
     ]
    }
   ],
   "source": [
    "# grad_val = torch.tensor([0.1,0.02,0.05,2])\n",
    "# adam_opt.current_iter = 3\n",
    "# try:\n",
    "#     adam_opt.count_sum(grad_list = [grad_val,grad_val,grad_val])\n",
    "#     print(\"Succed\")\n",
    "# except AssertionError as e:\n",
    "#     print(\"Failed\",e)"
   ]
  },
  {
   "cell_type": "code",
   "execution_count": 6,
   "id": "2f1aa61d-7a7e-41ff-b876-0d58c44abdc0",
   "metadata": {},
   "outputs": [],
   "source": [
    "def step(grad_vals):\n",
    "    #grad_val = torch.tensor([0.1,0.02,0.05,2])\n",
    "    res = adam_opt.count_sum(prev_iter_sum = 0,\n",
    "                             current_grad = grad_vals)\n",
    "    res1_inv,res1 = adam_opt.count_param_d(D_k_sum = res)\n",
    "    \n",
    "    return res,res1,res1_inv"
   ]
  },
  {
   "cell_type": "code",
   "execution_count": 7,
   "id": "ef6958fc-1532-4cb1-a318-02aa44c584e6",
   "metadata": {},
   "outputs": [
    {
     "data": {
      "text/plain": [
       "(tensor([1.0000e-02, 4.0000e-04, 2.5000e-03, 4.0000e+00]),\n",
       " tensor([1.0000e-02, 4.0000e-04, 2.5000e-03, 4.0000e+00]),\n",
       " tensor([10.0000, 50.0000, 20.0000,  0.5000]))"
      ]
     },
     "execution_count": 7,
     "metadata": {},
     "output_type": "execute_result"
    }
   ],
   "source": [
    "adam_opt.current_iter = 1\n",
    "step(grad_vals = torch.tensor([0.1,0.02,0.05,2]))"
   ]
  },
  {
   "cell_type": "code",
   "execution_count": 16,
   "id": "d521616f-bcca-43bf-a4df-c37e6aecfa64",
   "metadata": {},
   "outputs": [
    {
     "data": {
      "text/plain": [
       "(tensor([1.6410e-03, 1.0400e-04, 1.5600e+00, 1.6410e+01]),\n",
       " tensor([1.0519e-03, 6.6667e-05, 1.0000e+00, 1.0519e+01]),\n",
       " tensor([ 30.8324, 122.4745,   1.0000,   0.3083]))"
      ]
     },
     "execution_count": 16,
     "metadata": {},
     "output_type": "execute_result"
    }
   ],
   "source": [
    "adam_opt.current_iter = 3\n",
    "step(grad_vals = [torch.tensor([0.1,  0.02, 1, 10]),\n",
    "                  torch.tensor([0.01, 0.01, 1, 1]),\n",
    "                  torch.tensor([0.001,0,    1, 0.1])])"
   ]
  },
  {
   "cell_type": "code",
   "execution_count": 2,
   "id": "92d87f44-664e-4ef1-aac5-2b0d6a195fda",
   "metadata": {},
   "outputs": [
    {
     "data": {
      "text/plain": [
       "(tensor([1, 2, 3, 4]), torch.Size([4]))"
      ]
     },
     "execution_count": 2,
     "metadata": {},
     "output_type": "execute_result"
    }
   ],
   "source": [
    "import torch\n",
    "a = torch.tensor([1,2,3,4])\n",
    "a,a.shape"
   ]
  },
  {
   "cell_type": "markdown",
   "id": "8efac1b3-5ac0-46d6-a396-c5e14dca374b",
   "metadata": {
    "tags": []
   },
   "source": [
    "### Second Derivative"
   ]
  },
  {
   "cell_type": "code",
   "execution_count": 3,
   "id": "c99511ba-0cf6-4584-b401-77c489e45272",
   "metadata": {},
   "outputs": [
    {
     "name": "stdout",
     "output_type": "stream",
     "text": [
      "tensor([ 1.0000,  0.1000, 12.0000,  9.0000])\n",
      "tensor([ 1.0000,  0.1000, 12.0000,  9.0000])\n"
     ]
    }
   ],
   "source": [
    "for i in torch.tensor([[1,.1,12,9],[1,.1,12,9]]):\n",
    "    print(i)"
   ]
  },
  {
   "cell_type": "code",
   "execution_count": null,
   "id": "8e805785-be24-48b7-9ff0-7551a421ec8e",
   "metadata": {},
   "outputs": [],
   "source": []
  },
  {
   "cell_type": "code",
   "execution_count": 5,
   "id": "d3b20e64-6549-4da0-a777-10dceb3abea2",
   "metadata": {},
   "outputs": [
    {
     "name": "stdout",
     "output_type": "stream",
     "text": [
      "Files already downloaded and verified\n",
      "Files already downloaded and verified\n"
     ]
    },
    {
     "data": {
      "text/plain": [
       "(torch.Size([6, 3, 5, 5]), torch.Size([6, 3, 5, 5]))"
      ]
     },
     "execution_count": 5,
     "metadata": {},
     "output_type": "execute_result"
    }
   ],
   "source": [
    "m = Model(\"Test_Model\")\n",
    "m.set_optimizer(optim.SGD(m.net.parameters(), lr=0.01))\n",
    "\n",
    "d = Data(split = \"noSplit\",n_workers=1,environment = \"\")\n",
    "trainloader = d.get_data_loaders()[0]['trainloader']\n",
    "testloader = d.get_data_loaders()[0]['testloader']\n",
    "\n",
    "m.run(epoch = 2,train_loader = trainloader,test_loader = testloader)\n",
    "\n",
    "next(m.net.parameters()).shape,next(m.net.parameters()).grad.data.shape"
   ]
  },
  {
   "cell_type": "code",
   "execution_count": null,
   "id": "f39e3ccb-3b13-4568-94ba-eb9d3bbf0087",
   "metadata": {},
   "outputs": [],
   "source": []
  },
  {
   "cell_type": "code",
   "execution_count": 24,
   "id": "2c239603-ffda-4f6e-95d2-410c8bf0390e",
   "metadata": {},
   "outputs": [
    {
     "ename": "RuntimeError",
     "evalue": "element 0 of tensors does not require grad and does not have a grad_fn",
     "output_type": "error",
     "traceback": [
      "\u001b[0;31m---------------------------------------------------------------------------\u001b[0m",
      "\u001b[0;31mRuntimeError\u001b[0m                              Traceback (most recent call last)",
      "Cell \u001b[0;32mIn[24], line 3\u001b[0m\n\u001b[1;32m      1\u001b[0m \u001b[38;5;28mnext\u001b[39m(m\u001b[38;5;241m.\u001b[39mnet\u001b[38;5;241m.\u001b[39mparameters())\u001b[38;5;241m.\u001b[39mshape,\u001b[38;5;28mnext\u001b[39m(m\u001b[38;5;241m.\u001b[39mnet\u001b[38;5;241m.\u001b[39mparameters())\u001b[38;5;241m.\u001b[39mgrad\u001b[38;5;241m.\u001b[39mdata\u001b[38;5;241m.\u001b[39mshape,\n\u001b[0;32m----> 3\u001b[0m \u001b[43mtorch\u001b[49m\u001b[38;5;241;43m.\u001b[39;49m\u001b[43mautograd\u001b[49m\u001b[38;5;241;43m.\u001b[39;49m\u001b[43mgrad\u001b[49m\u001b[43m(\u001b[49m\u001b[38;5;28;43mnext\u001b[39;49m\u001b[43m(\u001b[49m\u001b[43mm\u001b[49m\u001b[38;5;241;43m.\u001b[39;49m\u001b[43mnet\u001b[49m\u001b[38;5;241;43m.\u001b[39;49m\u001b[43mparameters\u001b[49m\u001b[43m(\u001b[49m\u001b[43m)\u001b[49m\u001b[43m)\u001b[49m\u001b[38;5;241;43m.\u001b[39;49m\u001b[43mgrad\u001b[49m\u001b[38;5;241;43m.\u001b[39;49m\u001b[43mdata\u001b[49m\u001b[43m,\u001b[49m\u001b[43m \u001b[49m\u001b[38;5;28;43mnext\u001b[39;49m\u001b[43m(\u001b[49m\u001b[43mm\u001b[49m\u001b[38;5;241;43m.\u001b[39;49m\u001b[43mnet\u001b[49m\u001b[38;5;241;43m.\u001b[39;49m\u001b[43mparameters\u001b[49m\u001b[43m(\u001b[49m\u001b[43m)\u001b[49m\u001b[43m)\u001b[49m\u001b[38;5;241;43m.\u001b[39;49m\u001b[43mdata\u001b[49m\u001b[43m)\u001b[49m[\u001b[38;5;241m0\u001b[39m]\n",
      "File \u001b[0;32m~/Документы/Programs/miniconda3/lib/python3.10/site-packages/torch/autograd/__init__.py:300\u001b[0m, in \u001b[0;36mgrad\u001b[0;34m(outputs, inputs, grad_outputs, retain_graph, create_graph, only_inputs, allow_unused, is_grads_batched)\u001b[0m\n\u001b[1;32m    298\u001b[0m     \u001b[38;5;28;01mreturn\u001b[39;00m _vmap_internals\u001b[38;5;241m.\u001b[39m_vmap(vjp, \u001b[38;5;241m0\u001b[39m, \u001b[38;5;241m0\u001b[39m, allow_none_pass_through\u001b[38;5;241m=\u001b[39m\u001b[38;5;28;01mTrue\u001b[39;00m)(grad_outputs_)\n\u001b[1;32m    299\u001b[0m \u001b[38;5;28;01melse\u001b[39;00m:\n\u001b[0;32m--> 300\u001b[0m     \u001b[38;5;28;01mreturn\u001b[39;00m \u001b[43mVariable\u001b[49m\u001b[38;5;241;43m.\u001b[39;49m\u001b[43m_execution_engine\u001b[49m\u001b[38;5;241;43m.\u001b[39;49m\u001b[43mrun_backward\u001b[49m\u001b[43m(\u001b[49m\u001b[43m  \u001b[49m\u001b[38;5;66;43;03m# Calls into the C++ engine to run the backward pass\u001b[39;49;00m\n\u001b[1;32m    301\u001b[0m \u001b[43m        \u001b[49m\u001b[43mt_outputs\u001b[49m\u001b[43m,\u001b[49m\u001b[43m \u001b[49m\u001b[43mgrad_outputs_\u001b[49m\u001b[43m,\u001b[49m\u001b[43m \u001b[49m\u001b[43mretain_graph\u001b[49m\u001b[43m,\u001b[49m\u001b[43m \u001b[49m\u001b[43mcreate_graph\u001b[49m\u001b[43m,\u001b[49m\u001b[43m \u001b[49m\u001b[43mt_inputs\u001b[49m\u001b[43m,\u001b[49m\n\u001b[1;32m    302\u001b[0m \u001b[43m        \u001b[49m\u001b[43mallow_unused\u001b[49m\u001b[43m,\u001b[49m\u001b[43m \u001b[49m\u001b[43maccumulate_grad\u001b[49m\u001b[38;5;241;43m=\u001b[39;49m\u001b[38;5;28;43;01mFalse\u001b[39;49;00m\u001b[43m)\u001b[49m\n",
      "\u001b[0;31mRuntimeError\u001b[0m: element 0 of tensors does not require grad and does not have a grad_fn"
     ]
    }
   ],
   "source": [
    "next(m.net.parameters()).shape,next(m.net.parameters()).grad.data.shape, torch.autograd.grad(next(m.net.parameters()).grad.data, next(m.net.parameters()).data)[0]"
   ]
  },
  {
   "cell_type": "code",
   "execution_count": 10,
   "id": "553d0dc7-4e12-4b5c-a05e-e49b26f11c59",
   "metadata": {},
   "outputs": [],
   "source": [
    "p1 = next(m.net.parameters())\n",
    "p11 = torch.autograd.grad(p11,p1)\n",
    " create_graph=True\n",
    "p11 = next(m.net.parameters()).grad.data.reshape(-1)[0]#.grad.data"
   ]
  },
  {
   "cell_type": "code",
   "execution_count": 11,
   "id": "8d1f382f-ac10-4809-ba28-a6a9c0f9c16d",
   "metadata": {},
   "outputs": [
    {
     "ename": "RuntimeError",
     "evalue": "element 0 of tensors does not require grad and does not have a grad_fn",
     "output_type": "error",
     "traceback": [
      "\u001b[0;31m---------------------------------------------------------------------------\u001b[0m",
      "\u001b[0;31mRuntimeError\u001b[0m                              Traceback (most recent call last)",
      "Cell \u001b[0;32mIn[11], line 1\u001b[0m\n\u001b[0;32m----> 1\u001b[0m \u001b[43mtorch\u001b[49m\u001b[38;5;241;43m.\u001b[39;49m\u001b[43mautograd\u001b[49m\u001b[38;5;241;43m.\u001b[39;49m\u001b[43mgrad\u001b[49m\u001b[43m(\u001b[49m\u001b[43mp11\u001b[49m\u001b[43m,\u001b[49m\u001b[43mp1\u001b[49m\u001b[43m)\u001b[49m\n",
      "File \u001b[0;32m~/Документы/Programs/miniconda3/lib/python3.10/site-packages/torch/autograd/__init__.py:300\u001b[0m, in \u001b[0;36mgrad\u001b[0;34m(outputs, inputs, grad_outputs, retain_graph, create_graph, only_inputs, allow_unused, is_grads_batched)\u001b[0m\n\u001b[1;32m    298\u001b[0m     \u001b[38;5;28;01mreturn\u001b[39;00m _vmap_internals\u001b[38;5;241m.\u001b[39m_vmap(vjp, \u001b[38;5;241m0\u001b[39m, \u001b[38;5;241m0\u001b[39m, allow_none_pass_through\u001b[38;5;241m=\u001b[39m\u001b[38;5;28;01mTrue\u001b[39;00m)(grad_outputs_)\n\u001b[1;32m    299\u001b[0m \u001b[38;5;28;01melse\u001b[39;00m:\n\u001b[0;32m--> 300\u001b[0m     \u001b[38;5;28;01mreturn\u001b[39;00m \u001b[43mVariable\u001b[49m\u001b[38;5;241;43m.\u001b[39;49m\u001b[43m_execution_engine\u001b[49m\u001b[38;5;241;43m.\u001b[39;49m\u001b[43mrun_backward\u001b[49m\u001b[43m(\u001b[49m\u001b[43m  \u001b[49m\u001b[38;5;66;43;03m# Calls into the C++ engine to run the backward pass\u001b[39;49;00m\n\u001b[1;32m    301\u001b[0m \u001b[43m        \u001b[49m\u001b[43mt_outputs\u001b[49m\u001b[43m,\u001b[49m\u001b[43m \u001b[49m\u001b[43mgrad_outputs_\u001b[49m\u001b[43m,\u001b[49m\u001b[43m \u001b[49m\u001b[43mretain_graph\u001b[49m\u001b[43m,\u001b[49m\u001b[43m \u001b[49m\u001b[43mcreate_graph\u001b[49m\u001b[43m,\u001b[49m\u001b[43m \u001b[49m\u001b[43mt_inputs\u001b[49m\u001b[43m,\u001b[49m\n\u001b[1;32m    302\u001b[0m \u001b[43m        \u001b[49m\u001b[43mallow_unused\u001b[49m\u001b[43m,\u001b[49m\u001b[43m \u001b[49m\u001b[43maccumulate_grad\u001b[49m\u001b[38;5;241;43m=\u001b[39;49m\u001b[38;5;28;43;01mFalse\u001b[39;49;00m\u001b[43m)\u001b[49m\n",
      "\u001b[0;31mRuntimeError\u001b[0m: element 0 of tensors does not require grad and does not have a grad_fn"
     ]
    }
   ],
   "source": [
    "torch.autograd.grad(p11,p1)"
   ]
  },
  {
   "cell_type": "code",
   "execution_count": 14,
   "id": "ad5fd742-2023-43e6-8a63-6813d6217adc",
   "metadata": {},
   "outputs": [
    {
     "ename": "AssertionError",
     "evalue": "False",
     "output_type": "error",
     "traceback": [
      "\u001b[0;31m---------------------------------------------------------------------------\u001b[0m",
      "\u001b[0;31mAssertionError\u001b[0m                            Traceback (most recent call last)",
      "Cell \u001b[0;32mIn[14], line 1\u001b[0m\n\u001b[0;32m----> 1\u001b[0m \u001b[38;5;28;01massert\u001b[39;00m \u001b[38;5;241m1\u001b[39m\u001b[38;5;241m!=\u001b[39m\u001b[38;5;241m1\u001b[39m,\u001b[38;5;241m1\u001b[39m\u001b[38;5;241m!=\u001b[39m\u001b[38;5;241m1\u001b[39m\n",
      "\u001b[0;31mAssertionError\u001b[0m: False"
     ]
    }
   ],
   "source": [
    "assert 1!=1,1!=1"
   ]
  },
  {
   "cell_type": "code",
   "execution_count": 18,
   "id": "44b19dd7-8c15-4ee5-a53f-fc0f8b7edcb1",
   "metadata": {},
   "outputs": [
    {
     "name": "stdout",
     "output_type": "stream",
     "text": [
      "2\n"
     ]
    },
    {
     "data": {
      "text/plain": [
       "tensor([[[[-0.3333, -0.0000, -0.0000],\n",
       "          [-0.0000, -0.0000, -0.0000]],\n",
       "\n",
       "         [[-0.0000, -0.3333, -0.0000],\n",
       "          [-0.0000, -0.0000, -0.0000]],\n",
       "\n",
       "         [[-0.0000, -0.0000, -0.3333],\n",
       "          [-0.0000, -0.0000, -0.0000]]],\n",
       "\n",
       "\n",
       "        [[[-0.0000, -0.0000, -0.0000],\n",
       "          [-0.3333, -0.0000, -0.0000]],\n",
       "\n",
       "         [[-0.0000, -0.0000, -0.0000],\n",
       "          [-0.0000, -0.3333, -0.0000]],\n",
       "\n",
       "         [[-0.0000, -0.0000, -0.0000],\n",
       "          [-0.0000, -0.0000, -0.3333]]]])"
      ]
     },
     "execution_count": 19,
     "metadata": {},
     "output_type": "execute_result"
    }
   ],
   "source": [
    "x = torch.tensor([[.1,2,3],[1,.8,.2]],requires_grad=True)\n",
    "y = torch.tensor([[.1,2,3],[1,.8,.2]],requires_grad=True)\n",
    "loss_fn = torch.nn.MSELoss()\n",
    "def loss(x,y):\n",
    "    return loss_fn(x,y)\n",
    "\n",
    "h = torch.autograd.functional.hessian(loss,(x,y))\n",
    "\n",
    "print(len(h))\n",
    "h[0][0]"
   ]
  },
  {
   "cell_type": "code",
   "execution_count": null,
   "id": "3253e106-6174-49af-ba9f-1c31d09daa91",
   "metadata": {},
   "outputs": [],
   "source": [
    "# x = torch.tensor([.1,1],requires_grad=True)\n",
    "# y = torch.tensor([.5,10],requires_grad=True)\n",
    "# loss_fn = torch.nn.MSELoss()\n",
    "# f = ((x-y)**2).sum()\n",
    "\n",
    "# #f.forward()\n",
    "\n",
    "# dfdx = torch.autograd.grad(f,x,create_graph=True)[0]\n",
    "# print(dfdx)\n",
    "# ddx = torch.autograd.grad(dfdx[0],x)\n",
    "# ddx"
   ]
  },
  {
   "cell_type": "code",
   "execution_count": 6,
   "id": "e5c50285-f752-4e81-8285-0c5311432f26",
   "metadata": {},
   "outputs": [
    {
     "name": "stdout",
     "output_type": "stream",
     "text": [
      "tensor([-1.8000,  1.8000], grad_fn=<AddBackward0>)\n",
      "tensor(-1.8000, grad_fn=<UnbindBackward0>)\n",
      "tensor(1.8000, grad_fn=<UnbindBackward0>)\n"
     ]
    },
    {
     "data": {
      "text/plain": [
       "tensor([[ 2., -2.],\n",
       "        [-2.,  2.]])"
      ]
     },
     "execution_count": 6,
     "metadata": {},
     "output_type": "execute_result"
    }
   ],
   "source": [
    "x = torch.tensor([.1,1],requires_grad=True)\n",
    "#y = torch.tensor([.5,10],requires_grad=True)\n",
    "#loss_fn = torch.nn.MSELoss()\n",
    "#f = ((x-y)**2).sum()\n",
    "f = ((x[0]-x[1])**2)\n",
    "\n",
    "#f.forward()\n",
    "\n",
    "dfdx = torch.autograd.grad(f,x,create_graph=True)[0]\n",
    "print(dfdx)\n",
    "\n",
    "derivative_array = []\n",
    "for d in dfdx:\n",
    "    print(d)\n",
    "    ddx = torch.autograd.grad(d,x,retain_graph=True)[0]\n",
    "    derivative_array.append(ddx)\n",
    "\n",
    "derivative_array = torch.stack(derivative_array)\n",
    "derivative_array"
   ]
  },
  {
   "cell_type": "code",
   "execution_count": 13,
   "id": "aed11cb3-01a8-44a5-9c91-fb81183c9511",
   "metadata": {},
   "outputs": [
    {
     "name": "stdout",
     "output_type": "stream",
     "text": [
      "tensor([ -0.8000, -18.0000], grad_fn=<ReshapeAliasBackward0>)\n",
      "tensor([2., 0.])\n",
      "tensor([0., 2.])\n"
     ]
    },
    {
     "data": {
      "text/plain": [
       "tensor([[2., 0.],\n",
       "        [0., 2.]])"
      ]
     },
     "execution_count": 13,
     "metadata": {},
     "output_type": "execute_result"
    }
   ],
   "source": [
    "x = torch.tensor([[.1],[1]],requires_grad=True)\n",
    "y = torch.tensor([[.5],[10]],requires_grad=True)\n",
    "loss_fn = torch.nn.MSELoss(reduction='sum')\n",
    "f = loss_fn(x,y)\n",
    "#f1 = f.clone()\n",
    "f.backward(create_graph=True)\n",
    "\n",
    "dfdx = x.grad.reshape(-1)\n",
    "print(dfdx)\n",
    "\n",
    "derivative_array = []\n",
    "for d in dfdx:\n",
    "    ddx = torch.autograd.grad(d,x,retain_graph=True)[0].reshape(-1)\n",
    "    print(ddx)\n",
    "    derivative_array.append(ddx)\n",
    "\n",
    "derivative_array = torch.stack(derivative_array)\n",
    "derivative_array"
   ]
  },
  {
   "cell_type": "code",
   "execution_count": 34,
   "id": "904145c0-40f0-4482-9a54-c84b1dbeaa9d",
   "metadata": {},
   "outputs": [
    {
     "ename": "TypeError",
     "evalue": "'Tensor' object is not callable",
     "output_type": "error",
     "traceback": [
      "\u001b[0;31m---------------------------------------------------------------------------\u001b[0m",
      "\u001b[0;31mTypeError\u001b[0m                                 Traceback (most recent call last)",
      "Cell \u001b[0;32mIn[34], line 10\u001b[0m\n\u001b[1;32m      7\u001b[0m \u001b[38;5;66;03m#f1 = f.clone()\u001b[39;00m\n\u001b[1;32m      8\u001b[0m f\u001b[38;5;241m.\u001b[39mbackward(create_graph\u001b[38;5;241m=\u001b[39m\u001b[38;5;28;01mTrue\u001b[39;00m)\n\u001b[0;32m---> 10\u001b[0m \u001b[43mhessian\u001b[49m\u001b[43m(\u001b[49m\u001b[43mf\u001b[49m\u001b[43m,\u001b[49m\u001b[43mx\u001b[49m\u001b[43m)\u001b[49m\n",
      "File \u001b[0;32m~/Документы/Programs/miniconda3/lib/python3.10/site-packages/torch/autograd/functional.py:812\u001b[0m, in \u001b[0;36mhessian\u001b[0;34m(func, inputs, create_graph, strict, vectorize, outer_jacobian_strategy)\u001b[0m\n\u001b[1;32m    809\u001b[0m     _check_requires_grad(jac, \u001b[38;5;124m\"\u001b[39m\u001b[38;5;124mjacobian\u001b[39m\u001b[38;5;124m\"\u001b[39m, strict\u001b[38;5;241m=\u001b[39mstrict)\n\u001b[1;32m    810\u001b[0m     \u001b[38;5;28;01mreturn\u001b[39;00m jac\n\u001b[0;32m--> 812\u001b[0m res \u001b[38;5;241m=\u001b[39m \u001b[43mjacobian\u001b[49m\u001b[43m(\u001b[49m\u001b[43mjac_func\u001b[49m\u001b[43m,\u001b[49m\u001b[43m \u001b[49m\u001b[43minputs\u001b[49m\u001b[43m,\u001b[49m\u001b[43m \u001b[49m\u001b[43mcreate_graph\u001b[49m\u001b[38;5;241;43m=\u001b[39;49m\u001b[43mcreate_graph\u001b[49m\u001b[43m,\u001b[49m\u001b[43m \u001b[49m\u001b[43mstrict\u001b[49m\u001b[38;5;241;43m=\u001b[39;49m\u001b[43mstrict\u001b[49m\u001b[43m,\u001b[49m\u001b[43m \u001b[49m\u001b[43mvectorize\u001b[49m\u001b[38;5;241;43m=\u001b[39;49m\u001b[43mvectorize\u001b[49m\u001b[43m,\u001b[49m\n\u001b[1;32m    813\u001b[0m \u001b[43m               \u001b[49m\u001b[43mstrategy\u001b[49m\u001b[38;5;241;43m=\u001b[39;49m\u001b[43mouter_jacobian_strategy\u001b[49m\u001b[43m)\u001b[49m\n\u001b[1;32m    814\u001b[0m \u001b[38;5;28;01mreturn\u001b[39;00m _tuple_postprocess(res, (is_inputs_tuple, is_inputs_tuple))\n",
      "File \u001b[0;32m~/Документы/Programs/miniconda3/lib/python3.10/site-packages/torch/autograd/functional.py:578\u001b[0m, in \u001b[0;36mjacobian\u001b[0;34m(func, inputs, create_graph, strict, vectorize, strategy)\u001b[0m\n\u001b[1;32m    575\u001b[0m is_inputs_tuple, inputs \u001b[38;5;241m=\u001b[39m _as_tuple(inputs, \u001b[38;5;124m\"\u001b[39m\u001b[38;5;124minputs\u001b[39m\u001b[38;5;124m\"\u001b[39m, \u001b[38;5;124m\"\u001b[39m\u001b[38;5;124mjacobian\u001b[39m\u001b[38;5;124m\"\u001b[39m)\n\u001b[1;32m    576\u001b[0m inputs \u001b[38;5;241m=\u001b[39m _grad_preprocess(inputs, create_graph\u001b[38;5;241m=\u001b[39mcreate_graph, need_graph\u001b[38;5;241m=\u001b[39m\u001b[38;5;28;01mTrue\u001b[39;00m)\n\u001b[0;32m--> 578\u001b[0m outputs \u001b[38;5;241m=\u001b[39m \u001b[43mfunc\u001b[49m\u001b[43m(\u001b[49m\u001b[38;5;241;43m*\u001b[39;49m\u001b[43minputs\u001b[49m\u001b[43m)\u001b[49m\n\u001b[1;32m    579\u001b[0m is_outputs_tuple, outputs \u001b[38;5;241m=\u001b[39m _as_tuple(outputs,\n\u001b[1;32m    580\u001b[0m                                       \u001b[38;5;124m\"\u001b[39m\u001b[38;5;124moutputs of the user-provided function\u001b[39m\u001b[38;5;124m\"\u001b[39m,\n\u001b[1;32m    581\u001b[0m                                       \u001b[38;5;124m\"\u001b[39m\u001b[38;5;124mjacobian\u001b[39m\u001b[38;5;124m\"\u001b[39m)\n\u001b[1;32m    582\u001b[0m _check_requires_grad(outputs, \u001b[38;5;124m\"\u001b[39m\u001b[38;5;124moutputs\u001b[39m\u001b[38;5;124m\"\u001b[39m, strict\u001b[38;5;241m=\u001b[39mstrict)\n",
      "File \u001b[0;32m~/Документы/Programs/miniconda3/lib/python3.10/site-packages/torch/autograd/functional.py:808\u001b[0m, in \u001b[0;36mhessian.<locals>.jac_func\u001b[0;34m(*inp)\u001b[0m\n\u001b[1;32m    804\u001b[0m \u001b[38;5;28;01mif\u001b[39;00m outer_jacobian_strategy \u001b[38;5;241m==\u001b[39m \u001b[38;5;124m\"\u001b[39m\u001b[38;5;124mforward-mode\u001b[39m\u001b[38;5;124m\"\u001b[39m:\n\u001b[1;32m    805\u001b[0m     \u001b[38;5;66;03m# _grad_preprocess requires create_graph=True and input to require_grad\u001b[39;00m\n\u001b[1;32m    806\u001b[0m     \u001b[38;5;66;03m# or else the input will be detached\u001b[39;00m\n\u001b[1;32m    807\u001b[0m     inp \u001b[38;5;241m=\u001b[39m \u001b[38;5;28mtuple\u001b[39m(t\u001b[38;5;241m.\u001b[39mrequires_grad_(\u001b[38;5;28;01mTrue\u001b[39;00m) \u001b[38;5;28;01mfor\u001b[39;00m t \u001b[38;5;129;01min\u001b[39;00m inp)\n\u001b[0;32m--> 808\u001b[0m jac \u001b[38;5;241m=\u001b[39m \u001b[43mjacobian\u001b[49m\u001b[43m(\u001b[49m\u001b[43mensure_single_output_function\u001b[49m\u001b[43m,\u001b[49m\u001b[43m \u001b[49m\u001b[43minp\u001b[49m\u001b[43m,\u001b[49m\u001b[43m \u001b[49m\u001b[43mcreate_graph\u001b[49m\u001b[38;5;241;43m=\u001b[39;49m\u001b[38;5;28;43;01mTrue\u001b[39;49;00m\u001b[43m)\u001b[49m\n\u001b[1;32m    809\u001b[0m _check_requires_grad(jac, \u001b[38;5;124m\"\u001b[39m\u001b[38;5;124mjacobian\u001b[39m\u001b[38;5;124m\"\u001b[39m, strict\u001b[38;5;241m=\u001b[39mstrict)\n\u001b[1;32m    810\u001b[0m \u001b[38;5;28;01mreturn\u001b[39;00m jac\n",
      "File \u001b[0;32m~/Документы/Programs/miniconda3/lib/python3.10/site-packages/torch/autograd/functional.py:578\u001b[0m, in \u001b[0;36mjacobian\u001b[0;34m(func, inputs, create_graph, strict, vectorize, strategy)\u001b[0m\n\u001b[1;32m    575\u001b[0m is_inputs_tuple, inputs \u001b[38;5;241m=\u001b[39m _as_tuple(inputs, \u001b[38;5;124m\"\u001b[39m\u001b[38;5;124minputs\u001b[39m\u001b[38;5;124m\"\u001b[39m, \u001b[38;5;124m\"\u001b[39m\u001b[38;5;124mjacobian\u001b[39m\u001b[38;5;124m\"\u001b[39m)\n\u001b[1;32m    576\u001b[0m inputs \u001b[38;5;241m=\u001b[39m _grad_preprocess(inputs, create_graph\u001b[38;5;241m=\u001b[39mcreate_graph, need_graph\u001b[38;5;241m=\u001b[39m\u001b[38;5;28;01mTrue\u001b[39;00m)\n\u001b[0;32m--> 578\u001b[0m outputs \u001b[38;5;241m=\u001b[39m \u001b[43mfunc\u001b[49m\u001b[43m(\u001b[49m\u001b[38;5;241;43m*\u001b[39;49m\u001b[43minputs\u001b[49m\u001b[43m)\u001b[49m\n\u001b[1;32m    579\u001b[0m is_outputs_tuple, outputs \u001b[38;5;241m=\u001b[39m _as_tuple(outputs,\n\u001b[1;32m    580\u001b[0m                                       \u001b[38;5;124m\"\u001b[39m\u001b[38;5;124moutputs of the user-provided function\u001b[39m\u001b[38;5;124m\"\u001b[39m,\n\u001b[1;32m    581\u001b[0m                                       \u001b[38;5;124m\"\u001b[39m\u001b[38;5;124mjacobian\u001b[39m\u001b[38;5;124m\"\u001b[39m)\n\u001b[1;32m    582\u001b[0m _check_requires_grad(outputs, \u001b[38;5;124m\"\u001b[39m\u001b[38;5;124moutputs\u001b[39m\u001b[38;5;124m\"\u001b[39m, strict\u001b[38;5;241m=\u001b[39mstrict)\n",
      "File \u001b[0;32m~/Документы/Programs/miniconda3/lib/python3.10/site-packages/torch/autograd/functional.py:791\u001b[0m, in \u001b[0;36mhessian.<locals>.ensure_single_output_function\u001b[0;34m(*inp)\u001b[0m\n\u001b[1;32m    790\u001b[0m \u001b[38;5;28;01mdef\u001b[39;00m \u001b[38;5;21mensure_single_output_function\u001b[39m(\u001b[38;5;241m*\u001b[39minp):\n\u001b[0;32m--> 791\u001b[0m     out \u001b[38;5;241m=\u001b[39m \u001b[43mfunc\u001b[49m\u001b[43m(\u001b[49m\u001b[38;5;241;43m*\u001b[39;49m\u001b[43minp\u001b[49m\u001b[43m)\u001b[49m\n\u001b[1;32m    792\u001b[0m     is_out_tuple, t_out \u001b[38;5;241m=\u001b[39m _as_tuple(out, \u001b[38;5;124m\"\u001b[39m\u001b[38;5;124moutputs of the user-provided function\u001b[39m\u001b[38;5;124m\"\u001b[39m, \u001b[38;5;124m\"\u001b[39m\u001b[38;5;124mhessian\u001b[39m\u001b[38;5;124m\"\u001b[39m)\n\u001b[1;32m    793\u001b[0m     _check_requires_grad(t_out, \u001b[38;5;124m\"\u001b[39m\u001b[38;5;124moutputs\u001b[39m\u001b[38;5;124m\"\u001b[39m, strict\u001b[38;5;241m=\u001b[39mstrict)\n",
      "\u001b[0;31mTypeError\u001b[0m: 'Tensor' object is not callable"
     ]
    }
   ],
   "source": [
    "from torch.autograd.functional import hessian\n",
    "\n",
    "x = torch.tensor([.1,1],requires_grad=True)\n",
    "y = torch.tensor([.5,10],requires_grad=True)\n",
    "loss_fn = torch.nn.MSELoss(reduction='sum')\n",
    "f = loss_fn(x,y)\n",
    "#f1 = f.clone()\n",
    "f.backward(create_graph=True)\n"
   ]
  },
  {
   "cell_type": "code",
   "execution_count": 26,
   "id": "1d3dcff0-93b9-4fe5-8383-ed323ec85124",
   "metadata": {},
   "outputs": [
    {
     "data": {
      "text/plain": [
       "<function Tensor.clone>"
      ]
     },
     "execution_count": 26,
     "metadata": {},
     "output_type": "execute_result"
    }
   ],
   "source": [
    "dfdx"
   ]
  },
  {
   "cell_type": "code",
   "execution_count": 10,
   "id": "be71d9ba-4133-470f-8284-6ab6c47aa76b",
   "metadata": {},
   "outputs": [],
   "source": [
    "dfdx = torch.autograd.grad(f,x,create_graph=True)[0]"
   ]
  },
  {
   "cell_type": "code",
   "execution_count": null,
   "id": "14951c15-1f68-40e9-a928-e974221125af",
   "metadata": {},
   "outputs": [],
   "source": [
    "dfdx"
   ]
  },
  {
   "cell_type": "code",
   "execution_count": 5,
   "id": "870f29f4-f33f-4077-bb7b-89410a9ce2b7",
   "metadata": {},
   "outputs": [
    {
     "name": "stdout",
     "output_type": "stream",
     "text": [
      "tensor([-1.8000,  0.2000,  0.0000, -5.2000,  9.0000], grad_fn=<MulBackward0>)\n"
     ]
    },
    {
     "data": {
      "text/plain": [
       "(tensor([2., 0., 0., 0., 0.]),)"
      ]
     },
     "execution_count": 5,
     "metadata": {},
     "output_type": "execute_result"
    }
   ],
   "source": [
    "x = torch.tensor([.1,.2,.3,.4,5.],requires_grad=True)\n",
    "y = torch.tensor([1.,.1,.3,3.,.5],requires_grad=True)\n",
    "loss_fn = torch.nn.MSELoss()\n",
    "f = ((x-y)**2).sum()\n",
    "\n",
    "#f.forward()\n",
    "\n",
    "dfdx = torch.autograd.grad(f,x,create_graph=True)[0]\n",
    "print(dfdx)\n",
    "ddx = torch.autograd.grad(dfdx[0],x)\n",
    "ddx"
   ]
  },
  {
   "cell_type": "code",
   "execution_count": 18,
   "id": "9f14625b-747c-4adb-9daf-e40bed9c8cf7",
   "metadata": {},
   "outputs": [
    {
     "data": {
      "text/plain": [
       "tensor([[0.3000, 0.4000],\n",
       "        [0.1000, 0.2000]], grad_fn=<FlipBackward0>)"
      ]
     },
     "execution_count": 18,
     "metadata": {},
     "output_type": "execute_result"
    }
   ],
   "source": [
    "x = torch.tensor([[.1,.2],[.3,.4]],requires_grad=True)\n",
    "y = torch.tensor([1.,.1,.3,3.,.5],requires_grad=True)\n",
    "loss_fn = torch.nn.MSELoss()\n",
    "#f = ((x-y)**2).sum()\n",
    "\n",
    "\n",
    "# #f.forward()\n",
    "\n",
    "# dfdx = torch.autograd.grad(f,x,create_graph=True)[0]\n",
    "# print(dfdx)\n",
    "# ddx = torch.autograd.grad(dfdx[0],x)\n",
    "# ddx\n",
    "\n",
    "torch.flip(x,[0])"
   ]
  },
  {
   "cell_type": "code",
   "execution_count": 41,
   "id": "0c5f8f7a-5b90-4729-ac9b-c4f682e9caac",
   "metadata": {},
   "outputs": [
    {
     "data": {
      "text/plain": [
       "tensor([-1.8000,  0.2000,  0.0000, -5.2000,  9.0000], grad_fn=<MulBackward0>)"
      ]
     },
     "execution_count": 41,
     "metadata": {},
     "output_type": "execute_result"
    }
   ],
   "source": [
    "2*(x-y)"
   ]
  },
  {
   "cell_type": "code",
   "execution_count": 19,
   "id": "1d4ec5fa-499b-46f6-8e2c-2c23d6f62314",
   "metadata": {},
   "outputs": [
    {
     "data": {
      "text/plain": [
       "4"
      ]
     },
     "execution_count": 19,
     "metadata": {},
     "output_type": "execute_result"
    }
   ],
   "source": [
    "x = torch.tensor([1,2,3,4])\n",
    "torch.numel(x)\n",
    "#y = x.resize_(-1,0)\n",
    "#x.shape,y.shape,x"
   ]
  },
  {
   "cell_type": "markdown",
   "id": "79bbae02-f401-4d56-b63d-e7110a73143d",
   "metadata": {
    "tags": [],
    "toc-hr-collapsed": true
   },
   "source": [
    "### OASIS"
   ]
  },
  {
   "cell_type": "code",
   "execution_count": 2,
   "id": "0df25386-620d-4cae-a514-8768602a0653",
   "metadata": {},
   "outputs": [
    {
     "name": "stdout",
     "output_type": "stream",
     "text": [
      "Files already downloaded and verified\n",
      "Files already downloaded and verified\n"
     ]
    }
   ],
   "source": [
    "m = Model(\"Test_Model\")\n",
    "\n",
    "d = Data(split = \"noSplit\",n_workers=1,environment = \"\")\n",
    "trainloader = d.get_data_loaders()[0]['trainloader']\n",
    "testloader = d.get_data_loaders()[0]['testloader']"
   ]
  },
  {
   "cell_type": "code",
   "execution_count": 3,
   "id": "e93c9e3f-dae9-4c55-a9a8-edce4be25f7c",
   "metadata": {},
   "outputs": [],
   "source": [
    "opt = OASIS(params = m.net.parameters(),beta2 = 0.4,alpha = 0.001, lr=1e-2)\n",
    "m.set_optimizer(opt,True)"
   ]
  },
  {
   "cell_type": "code",
   "execution_count": 4,
   "id": "6c1ad129-e365-4c28-bff3-7d7573bd16ae",
   "metadata": {},
   "outputs": [
    {
     "ename": "RuntimeError",
     "evalue": "[enforce fail at alloc_cpu.cpp:75] err == 0. DefaultCPUAllocator: can't allocate memory: you tried to allocate 11905152000 bytes. Error code 12 (Cannot allocate memory)",
     "output_type": "error",
     "traceback": [
      "\u001b[0;31m---------------------------------------------------------------------------\u001b[0m",
      "\u001b[0;31mRuntimeError\u001b[0m                              Traceback (most recent call last)",
      "Cell \u001b[0;32mIn[4], line 1\u001b[0m\n\u001b[0;32m----> 1\u001b[0m \u001b[43mm\u001b[49m\u001b[38;5;241;43m.\u001b[39;49m\u001b[43mrun\u001b[49m\u001b[43m(\u001b[49m\u001b[43mepoch\u001b[49m\u001b[43m \u001b[49m\u001b[38;5;241;43m=\u001b[39;49m\u001b[43m \u001b[49m\u001b[38;5;241;43m10\u001b[39;49m\u001b[43m,\u001b[49m\u001b[43mtrain_loader\u001b[49m\u001b[43m \u001b[49m\u001b[38;5;241;43m=\u001b[39;49m\u001b[43m \u001b[49m\u001b[43mtrainloader\u001b[49m\u001b[43m,\u001b[49m\u001b[43mtest_loader\u001b[49m\u001b[43m \u001b[49m\u001b[38;5;241;43m=\u001b[39;49m\u001b[43m \u001b[49m\u001b[43mtestloader\u001b[49m\u001b[43m)\u001b[49m\n",
      "File \u001b[0;32m~/Документы/Repos/FederatedLearning/Models/CNN_model/Model.py:251\u001b[0m, in \u001b[0;36mModel.run\u001b[0;34m(self, epoch, train_loader, test_loader)\u001b[0m\n\u001b[1;32m    249\u001b[0m \u001b[38;5;28;01mdef\u001b[39;00m \u001b[38;5;21mrun\u001b[39m(\u001b[38;5;28mself\u001b[39m,epoch,train_loader,test_loader):\n\u001b[1;32m    250\u001b[0m \t\u001b[38;5;28;01mfor\u001b[39;00m current_epoch \u001b[38;5;129;01min\u001b[39;00m \u001b[38;5;28mrange\u001b[39m(\u001b[38;5;241m0\u001b[39m, epoch):\n\u001b[0;32m--> 251\u001b[0m \t    \u001b[38;5;28;43mself\u001b[39;49m\u001b[38;5;241;43m.\u001b[39;49m\u001b[43mtrain\u001b[49m\u001b[43m(\u001b[49m\u001b[43mtrain_loader\u001b[49m\u001b[43m)\u001b[49m\n\u001b[1;32m    252\u001b[0m \t    \u001b[38;5;28mself\u001b[39m\u001b[38;5;241m.\u001b[39mtest(test_loader)\n",
      "File \u001b[0;32m~/Документы/Repos/FederatedLearning/Models/CNN_model/Model.py:166\u001b[0m, in \u001b[0;36mModel.train\u001b[0;34m(self, trainloader)\u001b[0m\n\u001b[1;32m    163\u001b[0m     \u001b[38;5;28;01mreturn\u001b[39;00m \u001b[38;5;28mself\u001b[39m\u001b[38;5;241m.\u001b[39mcriterion(outputs, targets)\n\u001b[1;32m    165\u001b[0m \u001b[38;5;28;01mif\u001b[39;00m \u001b[38;5;28mself\u001b[39m\u001b[38;5;241m.\u001b[39mis_oasis:\n\u001b[0;32m--> 166\u001b[0m     second_derivative \u001b[38;5;241m=\u001b[39m \u001b[43mhessian\u001b[49m\u001b[43m(\u001b[49m\u001b[43mmodel_run\u001b[49m\u001b[43m)\u001b[49m\u001b[43m(\u001b[49m\u001b[38;5;28;43mtuple\u001b[39;49m\u001b[43m(\u001b[49m\u001b[38;5;28;43mself\u001b[39;49m\u001b[38;5;241;43m.\u001b[39;49m\u001b[43mnet\u001b[49m\u001b[38;5;241;43m.\u001b[39;49m\u001b[43mparameters\u001b[49m\u001b[43m(\u001b[49m\u001b[43m)\u001b[49m\u001b[43m)\u001b[49m\u001b[43m \u001b[49m\u001b[43m)\u001b[49m \u001b[38;5;66;03m# torch.autograd.functional.hessian\u001b[39;00m\n\u001b[1;32m    167\u001b[0m     \u001b[38;5;28mself\u001b[39m\u001b[38;5;241m.\u001b[39moasis_preprocess(second_derivative \u001b[38;5;241m=\u001b[39m second_derivative)\n\u001b[1;32m    170\u001b[0m \u001b[38;5;28mself\u001b[39m\u001b[38;5;241m.\u001b[39moptimizer\u001b[38;5;241m.\u001b[39mstep()\n",
      "File \u001b[0;32m~/Документы/Programs/miniconda3/lib/python3.10/site-packages/functorch/_src/eager_transforms.py:985\u001b[0m, in \u001b[0;36mjacfwd.<locals>.wrapper_fn\u001b[0;34m(*args)\u001b[0m\n\u001b[1;32m    983\u001b[0m flat_primals, primals_spec \u001b[38;5;241m=\u001b[39m tree_flatten(primals)\n\u001b[1;32m    984\u001b[0m flat_primals_numels \u001b[38;5;241m=\u001b[39m \u001b[38;5;28mtuple\u001b[39m(p\u001b[38;5;241m.\u001b[39mnumel() \u001b[38;5;28;01mfor\u001b[39;00m p \u001b[38;5;129;01min\u001b[39;00m flat_primals)\n\u001b[0;32m--> 985\u001b[0m flat_basis \u001b[38;5;241m=\u001b[39m \u001b[43m_construct_standard_basis_for\u001b[49m\u001b[43m(\u001b[49m\u001b[43mflat_primals\u001b[49m\u001b[43m,\u001b[49m\u001b[43m \u001b[49m\u001b[43mflat_primals_numels\u001b[49m\u001b[43m)\u001b[49m\n\u001b[1;32m    986\u001b[0m basis \u001b[38;5;241m=\u001b[39m tree_unflatten(flat_basis, primals_spec)\n\u001b[1;32m    988\u001b[0m \u001b[38;5;28;01mdef\u001b[39;00m \u001b[38;5;21mpush_jvp\u001b[39m(basis):\n",
      "File \u001b[0;32m~/Документы/Programs/miniconda3/lib/python3.10/site-packages/functorch/_src/eager_transforms.py:574\u001b[0m, in \u001b[0;36m_construct_standard_basis_for\u001b[0;34m(tensors, tensor_numels)\u001b[0m\n\u001b[1;32m    572\u001b[0m total_numel \u001b[38;5;241m=\u001b[39m \u001b[38;5;28msum\u001b[39m(tensor_numels)\n\u001b[1;32m    573\u001b[0m diag_start_indices \u001b[38;5;241m=\u001b[39m (\u001b[38;5;241m0\u001b[39m, \u001b[38;5;241m*\u001b[39mtorch\u001b[38;5;241m.\u001b[39mtensor(tensor_numels)\u001b[38;5;241m.\u001b[39mcumsum(dim\u001b[38;5;241m=\u001b[39m\u001b[38;5;241m0\u001b[39m)[:\u001b[38;5;241m-\u001b[39m\u001b[38;5;241m1\u001b[39m]\u001b[38;5;241m.\u001b[39mneg()\u001b[38;5;241m.\u001b[39munbind())\n\u001b[0;32m--> 574\u001b[0m chunks \u001b[38;5;241m=\u001b[39m \u001b[38;5;28;43mtuple\u001b[39;49m\u001b[43m(\u001b[49m\u001b[43mtensor\u001b[49m\u001b[38;5;241;43m.\u001b[39;49m\u001b[43mnew_zeros\u001b[49m\u001b[43m(\u001b[49m\u001b[43mtotal_numel\u001b[49m\u001b[43m,\u001b[49m\u001b[43m \u001b[49m\u001b[43mtensor_numel\u001b[49m\u001b[43m)\u001b[49m\n\u001b[1;32m    575\u001b[0m \u001b[43m               \u001b[49m\u001b[38;5;28;43;01mfor\u001b[39;49;00m\u001b[43m \u001b[49m\u001b[43mtensor\u001b[49m\u001b[43m,\u001b[49m\u001b[43m \u001b[49m\u001b[43mtensor_numel\u001b[49m\u001b[43m \u001b[49m\u001b[38;5;129;43;01min\u001b[39;49;00m\u001b[43m \u001b[49m\u001b[38;5;28;43mzip\u001b[39;49m\u001b[43m(\u001b[49m\u001b[43mtensors\u001b[49m\u001b[43m,\u001b[49m\u001b[43m \u001b[49m\u001b[43mtensor_numels\u001b[49m\u001b[43m)\u001b[49m\u001b[43m)\u001b[49m\n\u001b[1;32m    576\u001b[0m \u001b[38;5;28;01mfor\u001b[39;00m chunk, diag_start_idx \u001b[38;5;129;01min\u001b[39;00m \u001b[38;5;28mzip\u001b[39m(chunks, diag_start_indices):\n\u001b[1;32m    577\u001b[0m     chunk\u001b[38;5;241m.\u001b[39mdiagonal(diag_start_idx)\u001b[38;5;241m.\u001b[39mfill_(\u001b[38;5;241m1\u001b[39m)\n",
      "File \u001b[0;32m~/Документы/Programs/miniconda3/lib/python3.10/site-packages/functorch/_src/eager_transforms.py:574\u001b[0m, in \u001b[0;36m<genexpr>\u001b[0;34m(.0)\u001b[0m\n\u001b[1;32m    572\u001b[0m total_numel \u001b[38;5;241m=\u001b[39m \u001b[38;5;28msum\u001b[39m(tensor_numels)\n\u001b[1;32m    573\u001b[0m diag_start_indices \u001b[38;5;241m=\u001b[39m (\u001b[38;5;241m0\u001b[39m, \u001b[38;5;241m*\u001b[39mtorch\u001b[38;5;241m.\u001b[39mtensor(tensor_numels)\u001b[38;5;241m.\u001b[39mcumsum(dim\u001b[38;5;241m=\u001b[39m\u001b[38;5;241m0\u001b[39m)[:\u001b[38;5;241m-\u001b[39m\u001b[38;5;241m1\u001b[39m]\u001b[38;5;241m.\u001b[39mneg()\u001b[38;5;241m.\u001b[39munbind())\n\u001b[0;32m--> 574\u001b[0m chunks \u001b[38;5;241m=\u001b[39m \u001b[38;5;28mtuple\u001b[39m(\u001b[43mtensor\u001b[49m\u001b[38;5;241;43m.\u001b[39;49m\u001b[43mnew_zeros\u001b[49m\u001b[43m(\u001b[49m\u001b[43mtotal_numel\u001b[49m\u001b[43m,\u001b[49m\u001b[43m \u001b[49m\u001b[43mtensor_numel\u001b[49m\u001b[43m)\u001b[49m\n\u001b[1;32m    575\u001b[0m                \u001b[38;5;28;01mfor\u001b[39;00m tensor, tensor_numel \u001b[38;5;129;01min\u001b[39;00m \u001b[38;5;28mzip\u001b[39m(tensors, tensor_numels))\n\u001b[1;32m    576\u001b[0m \u001b[38;5;28;01mfor\u001b[39;00m chunk, diag_start_idx \u001b[38;5;129;01min\u001b[39;00m \u001b[38;5;28mzip\u001b[39m(chunks, diag_start_indices):\n\u001b[1;32m    577\u001b[0m     chunk\u001b[38;5;241m.\u001b[39mdiagonal(diag_start_idx)\u001b[38;5;241m.\u001b[39mfill_(\u001b[38;5;241m1\u001b[39m)\n",
      "\u001b[0;31mRuntimeError\u001b[0m: [enforce fail at alloc_cpu.cpp:75] err == 0. DefaultCPUAllocator: can't allocate memory: you tried to allocate 11905152000 bytes. Error code 12 (Cannot allocate memory)"
     ]
    }
   ],
   "source": [
    "m.run(epoch = 10,train_loader = trainloader,test_loader = testloader)"
   ]
  },
  {
   "cell_type": "code",
   "execution_count": 7,
   "id": "ffa5aa2e-6938-47e7-bace-e3725b354bfa",
   "metadata": {},
   "outputs": [
    {
     "data": {
      "text/plain": [
       "torch.nn.parameter.Parameter"
      ]
     },
     "execution_count": 7,
     "metadata": {},
     "output_type": "execute_result"
    }
   ],
   "source": [
    "type(next(m.net.parameters()))"
   ]
  },
  {
   "cell_type": "code",
   "execution_count": null,
   "id": "fb9b97f0-c51a-46dd-bc74-ef981d9a2de0",
   "metadata": {},
   "outputs": [],
   "source": [
    "m.stat_collector.loss"
   ]
  },
  {
   "cell_type": "code",
   "execution_count": null,
   "id": "b210b844-c99f-417a-b2f9-f6eac7e17b79",
   "metadata": {},
   "outputs": [],
   "source": [
    "m.stat_collector.loss_plot()\n",
    "m.stat_collector.acc_plot()"
   ]
  },
  {
   "cell_type": "code",
   "execution_count": null,
   "id": "05943dfb-538c-4092-8c55-94dcbd75d77d",
   "metadata": {},
   "outputs": [],
   "source": [
    "opt.step(0,)"
   ]
  },
  {
   "cell_type": "code",
   "execution_count": 17,
   "id": "ed9ffbb7-71b0-4d91-96e7-0d92967a40f4",
   "metadata": {},
   "outputs": [
    {
     "name": "stderr",
     "output_type": "stream",
     "text": [
      "/tmp/ipykernel_4688/1340630538.py:2: UserWarning: The .grad attribute of a Tensor that is not a leaf Tensor is being accessed. Its .grad attribute won't be populated during autograd.backward(). If you indeed want the .grad field to be populated for a non-leaf Tensor, use .retain_grad() on the non-leaf Tensor. If you access the non-leaf Tensor by mistake, make sure you access the leaf Tensor instead. See github.com/pytorch/pytorch/pull/30531 for more informations. (Triggered internally at /opt/conda/conda-bld/pytorch_1670525493953/work/build/aten/src/ATen/core/TensorBody.h:480.)\n",
      "  a[1].grad\n"
     ]
    }
   ],
   "source": [
    "a = next(m.net.parameters())\n",
    "a[1].grad"
   ]
  },
  {
   "cell_type": "code",
   "execution_count": 3,
   "id": "d81cf5b4-d9f5-4c40-a5b1-471173df2512",
   "metadata": {},
   "outputs": [],
   "source": [
    "p = torch.tensor([1])\n",
    "m = Model(\"Test_Model\")\n",
    "\n",
    "oasis_opt = OASIS(params = m.net.parameters(),beta2 = 0.4,alpha = 0.001, lr=1e-2)"
   ]
  },
  {
   "cell_type": "code",
   "execution_count": 4,
   "id": "0ad75968-7f29-431a-a2ea-1fc2d5d7e9bb",
   "metadata": {},
   "outputs": [
    {
     "name": "stdout",
     "output_type": "stream",
     "text": [
      "Succed\n",
      "Failed Internal iteration counter is not same as external one\n"
     ]
    }
   ],
   "source": [
    "grad_val = torch.tensor([0.1,0.02,0.05,2])\n",
    "try:\n",
    "    oasis_opt.current_iteration = 1\n",
    "    oasis_opt.count_next_D_k(prev_D_k = 12, v = 1,cur_iter = 1)\n",
    "    oasis_opt.current_iteration = 0\n",
    "    print(\"Succed\")\n",
    "    \n",
    "    oasis_opt.count_next_D_k(prev_D_k = 12, v = 1,cur_iter = 22)\n",
    "    print(\"Succed\")\n",
    "    oasis_opt.current_iteration = 0\n",
    "except AssertionError as e:\n",
    "    print(\"Failed\",e)"
   ]
  },
  {
   "cell_type": "code",
   "execution_count": null,
   "id": "e8e00b73-f547-4e5b-aea4-1b905b71fa49",
   "metadata": {},
   "outputs": [],
   "source": [
    "# def step(grad_vals,c_iter):\n",
    "#     #grad_val = torch.tensor([0.1,0.02,0.05,2])\n",
    "#     res = adam_opt.count_sum(current_iter = c_iter, grad_list = grad_vals)\n",
    "#     res1_inv,res1 = adam_opt.count_param_d(D_k_sum = res, current_iter = c_iter)\n",
    "    \n",
    "#     return res,res1,res1_inv"
   ]
  },
  {
   "cell_type": "code",
   "execution_count": 5,
   "id": "c0e9ceae-7af5-4c2d-a8aa-dc261846e9e4",
   "metadata": {},
   "outputs": [
    {
     "data": {
      "text/plain": [
       "(tensor([[-0.1000,  0.0000],\n",
       "         [ 0.0000,  0.1000]]),\n",
       " tensor([[-0.0600,  0.0000],\n",
       "         [ 0.0000,  0.0600]]),\n",
       " tensor([[0.0010, 0.0000],\n",
       "         [0.0000, 0.0600]]))"
      ]
     },
     "execution_count": 5,
     "metadata": {},
     "output_type": "execute_result"
    }
   ],
   "source": [
    "oasis_opt.current_iteration = 1\n",
    "v = oasis_opt.count_v(second_derivative = torch.tensor([0.1,0.2]))\n",
    "D_k = oasis_opt.count_next_D_k(prev_D_k = 0, v = v,cur_iter = 1)\n",
    "D_k_inv = oasis_opt.count_alpha_cut(D_k)\n",
    "v,D_k,D_k_inv"
   ]
  },
  {
   "cell_type": "code",
   "execution_count": 17,
   "id": "02514548-9e7d-4588-a0ef-aa8b5489f8a2",
   "metadata": {},
   "outputs": [
    {
     "data": {
      "text/plain": [
       "torch.Size([2])"
      ]
     },
     "execution_count": 17,
     "metadata": {},
     "output_type": "execute_result"
    }
   ],
   "source": [
    "torch.tensor([0.1,0.2]).shape"
   ]
  },
  {
   "cell_type": "code",
   "execution_count": 27,
   "id": "44973f09-d71a-4de6-80d5-b576014e2eab",
   "metadata": {},
   "outputs": [
    {
     "data": {
      "text/plain": [
       "tensor([-0.1688,  0.2759], grad_fn=<SelectBackward0>)"
      ]
     },
     "execution_count": 27,
     "metadata": {},
     "output_type": "execute_result"
    }
   ],
   "source": [
    "model = nn.Linear(2, 1)\n",
    "list(model.parameters())[0][0]"
   ]
  },
  {
   "cell_type": "code",
   "execution_count": 30,
   "id": "08cb58c9-317d-420e-ab56-1fd498b38256",
   "metadata": {},
   "outputs": [
    {
     "data": {
      "text/plain": [
       "tensor([[3.3630, 0.0000, 0.0000],\n",
       "        [0.0000, 1.7413, 0.0000],\n",
       "        [0.0000, 0.0000, 2.0550]])"
      ]
     },
     "execution_count": 30,
     "metadata": {},
     "output_type": "execute_result"
    }
   ],
   "source": [
    "def pow_reducer(x):\n",
    "    return x.pow(3).sum()\n",
    "\n",
    "inputs = torch.rand(3)\n",
    "torch.autograd.functional.hessian(pow_reducer, inputs)"
   ]
  }
 ],
 "metadata": {
  "accelerator": "GPU",
  "colab": {
   "provenance": []
  },
  "gpuClass": "standard",
  "kernelspec": {
   "display_name": "Python 3 (ipykernel)",
   "language": "python",
   "name": "python3"
  },
  "language_info": {
   "codemirror_mode": {
    "name": "ipython",
    "version": 3
   },
   "file_extension": ".py",
   "mimetype": "text/x-python",
   "name": "python",
   "nbconvert_exporter": "python",
   "pygments_lexer": "ipython3",
   "version": "3.10.9"
  }
 },
 "nbformat": 4,
 "nbformat_minor": 5
}
