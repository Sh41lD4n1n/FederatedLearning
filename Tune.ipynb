{
 "cells": [
  {
   "cell_type": "markdown",
   "id": "38b7c62e-b656-4a94-96a5-ba8486bbc970",
   "metadata": {
    "id": "38b7c62e-b656-4a94-96a5-ba8486bbc970"
   },
   "source": [
    "# Test Model"
   ]
  },
  {
   "cell_type": "markdown",
   "id": "dac18c79",
   "metadata": {},
   "source": [
    "Перед запуском этого файла локально убедись:\n",
    "- в правильном порядке директорий (Используются,server,worker,data,Model,StatisticClass)\\\n",
    "\n",
    "   |-Models\\\n",
    "   |---CNN_model\\\n",
    "   |-----models\\\n",
    "   |-------Data.py\\\n",
    "   |-------Model.py\\\n",
    "   |---FederatedLearning\\\n",
    "   |-------Server.py\\\n",
    "   |-------Worker.py\\\n",
    "   |---MatrixScheduler\\\n",
    "   |---Optimisers\\\n",
    "   |---Preconditioners\\\n",
    "   |-StatisticClass.py\\\n",
    "\n",
    "- установленны Tensorboard, torch, torchvision\n",
    "Tensorboard:\n",
    "\n",
    "```\n",
    "!pip install tensorboard\n",
    "```\n"
   ]
  },
  {
   "cell_type": "code",
   "execution_count": 1,
   "id": "53b8adc0-76c9-4ed5-b1a9-56b3ba5bcd53",
   "metadata": {
    "colab": {
     "base_uri": "https://localhost:8080/"
    },
    "id": "53b8adc0-76c9-4ed5-b1a9-56b3ba5bcd53",
    "outputId": "d8acbbaa-7f17-4d87-dd7e-a6b017cd07a2"
   },
   "outputs": [
    {
     "name": "stdout",
     "output_type": "stream",
     "text": [
      "data\tPictures   Report_Local.ipynb  runs\t  Test.ipynb\n",
      "Models\tREADME.md  Reports\t       Runs_stat  ПередПрименением.txt\n"
     ]
    }
   ],
   "source": [
    "import os\n",
    "\n",
    "os.chdir(\"./Models/CNN_model\")\n",
    "#!ls\n",
    "from Model import Model\n",
    "from Data import Data\n",
    "\n",
    "os.chdir(\"../..\")\n",
    "!ls\n",
    "\n",
    "from Models.FederatedLearning.Server import server\n",
    "from Models.StatisticClass import Statistic,array_mean_object\n",
    "\n",
    "from Models.Optimizers.SGD import Optimizer_SGD\n",
    "from Models.Optimizers.Adam import Adam\n",
    "from Models.Optimizers.OASIS import OASIS\n",
    "\n",
    "#os.chdir(\"../Reports\")\n",
    "import matplotlib.pyplot as plt\n",
    "import numpy as np\n",
    "import torch.optim as optim\n",
    "#!ls"
   ]
  },
  {
   "cell_type": "code",
   "execution_count": 2,
   "id": "aQWRTNZpchuN",
   "metadata": {
    "colab": {
     "base_uri": "https://localhost:8080/"
    },
    "id": "aQWRTNZpchuN",
    "outputId": "515fb921-c15d-4680-9c61-fe3616422fe5"
   },
   "outputs": [
    {
     "name": "stdout",
     "output_type": "stream",
     "text": [
      "/home/danil-pass123/Документы/Repos/FederatedLearning\n"
     ]
    }
   ],
   "source": [
    "!pwd"
   ]
  },
  {
   "cell_type": "code",
   "execution_count": 3,
   "id": "a3241be6-4335-4b42-91cd-2c92d91a33be",
   "metadata": {},
   "outputs": [
    {
     "data": {
      "text/plain": [
       "['het',\n",
       " 'ident',\n",
       " 'random_indent',\n",
       " 'ident_same',\n",
       " 'noSplit',\n",
       " 'noSplit_test_split']"
      ]
     },
     "execution_count": 3,
     "metadata": {},
     "output_type": "execute_result"
    }
   ],
   "source": [
    "Data.SPLITS"
   ]
  },
  {
   "cell_type": "markdown",
   "id": "5b78f1dd-fa90-4181-8dd6-c100fa8cfabe",
   "metadata": {},
   "source": [
    "## Tune parameters"
   ]
  },
  {
   "cell_type": "code",
   "execution_count": null,
   "id": "ad12c58f-da01-4c1d-bc5c-7ff0c13ff75f",
   "metadata": {},
   "outputs": [],
   "source": [
    "tune = {\"lr\":[1e-2,1e-3,5*1e-3,1e-4]}"
   ]
  },
  {
   "cell_type": "code",
   "execution_count": null,
   "id": "17bc5e00-8064-4c56-8836-28229581d69d",
   "metadata": {},
   "outputs": [],
   "source": [
    "def grid_search(rune_fn,tune):\n",
    "    for l in tune[\"lr\"]:\n",
    "        rune_fn(l)"
   ]
  },
  {
   "cell_type": "markdown",
   "id": "609be195-6cd6-405e-a14e-51fde7b0e35b",
   "metadata": {
    "id": "609be195-6cd6-405e-a14e-51fde7b0e35b",
    "tags": []
   },
   "source": [
    "## Model"
   ]
  },
  {
   "cell_type": "code",
   "execution_count": 4,
   "id": "e0f38593-17fb-4b03-b24f-c4fe76d7e6a5",
   "metadata": {},
   "outputs": [
    {
     "name": "stdout",
     "output_type": "stream",
     "text": [
      "train Model\n"
     ]
    }
   ],
   "source": [
    "print(\"train Model\")"
   ]
  },
  {
   "cell_type": "code",
   "execution_count": 5,
   "id": "8b0370ee-c63f-48ac-bc6e-c079a0405e9e",
   "metadata": {},
   "outputs": [
    {
     "name": "stdout",
     "output_type": "stream",
     "text": [
      "Files already downloaded and verified\n",
      "Files already downloaded and verified\n"
     ]
    }
   ],
   "source": [
    "d = Data(split = \"noSplit\",n_workers=1,environment = \"\")"
   ]
  },
  {
   "cell_type": "code",
   "execution_count": 6,
   "id": "9d67c237-1105-4391-9ef0-07fe331d3c24",
   "metadata": {},
   "outputs": [],
   "source": [
    "def run_model(lr):\n",
    "    m = Model(f\"Model_impl_SGD_lr:{lr}\")\n",
    "    #m.set_optimizer(optim.Adam(params=m.net.parameters(), lr=0.001, betas=(0.3, 0.58)))\n",
    "    m.set_optimizer(Optimizer_SGD(params = m.net.parameters(),lr=lr))\n",
    "\n",
    "    trainloader = d.get_data_loaders()[0]['trainloader']\n",
    "    testloader = d.get_data_loaders()[0]['testloader']\n",
    "\n",
    "    m.run(epoch = 100,train_loader = trainloader,test_loader = testloader)\n",
    "\n",
    "grid_search(run_model,tune)"
   ]
  },
  {
   "cell_type": "code",
   "execution_count": 6,
   "id": "02522911-6bd4-4efd-bcc2-b6d04c21bc4a",
   "metadata": {},
   "outputs": [],
   "source": [
    "def run_model(lr):\n",
    "    m = Model(f\"Model_SGD_lr:{lr}\")\n",
    "    #m.set_optimizer(optim.Adam(params=m.net.parameters(), lr=0.001, betas=(0.3, 0.58)))\n",
    "    m.set_optimizer(optim.SGD(params = m.net.parameters(),lr=lr))\n",
    "\n",
    "    trainloader = d.get_data_loaders()[0]['trainloader']\n",
    "    testloader = d.get_data_loaders()[0]['testloader']\n",
    "\n",
    "    m.run(epoch = 100,train_loader = trainloader,test_loader = testloader)\n",
    "\n",
    "grid_search(run_model,tune)"
   ]
  }
 ],
 "metadata": {
  "accelerator": "GPU",
  "colab": {
   "provenance": []
  },
  "gpuClass": "standard",
  "kernelspec": {
   "display_name": "Python 3 (ipykernel)",
   "language": "python",
   "name": "python3"
  },
  "language_info": {
   "codemirror_mode": {
    "name": "ipython",
    "version": 3
   },
   "file_extension": ".py",
   "mimetype": "text/x-python",
   "name": "python",
   "nbconvert_exporter": "python",
   "pygments_lexer": "ipython3",
   "version": "3.10.9"
  }
 },
 "nbformat": 4,
 "nbformat_minor": 5
}
